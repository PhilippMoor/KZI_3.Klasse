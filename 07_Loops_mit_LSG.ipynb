{
 "cells": [
  {
   "cell_type": "markdown",
   "id": "dcf56777",
   "metadata": {},
   "source": [
    "# Einführung"
   ]
  },
  {
   "cell_type": "markdown",
   "id": "219c0e95",
   "metadata": {},
   "source": [
    "In dieser Lektion führen wir Schleifen ein (manchmal auch Wiederholungen oder Iterationen genannt: eine Möglichkeit, den Computer immer wieder die gleiche Sache (oder ähnliche Dinge) machen zu lassen. Zum Beispiel würde die Rechtschreibprüfung jedes Wortes in einem Dokument mit einer Schleife gemacht werden. Wir werden in dieser Lektion die beiden Arten von Python loops (Schleifen) beschreiben: for loops und while loops."
   ]
  },
  {
   "cell_type": "markdown",
   "id": "93319cad",
   "metadata": {},
   "source": [
    "## for-loops "
   ]
  },
  {
   "cell_type": "markdown",
   "id": "b7d805f1",
   "metadata": {},
   "source": [
    "Eine for-Schleife wird gebaut, um eine Reihe von Zahlen (oder wie wir später sehen werden, irgendeine Liste von Daten) systematisch durchzugehen.\n",
    "\n",
    "Sehen wir uns dies anhand eines praktischen Beispiels an. In folgender Code-Zelle sollen die Zahlen von 0-10 ausgegeben werden:"
   ]
  },
  {
   "cell_type": "code",
   "execution_count": null,
   "id": "61156445",
   "metadata": {
    "scrolled": true
   },
   "outputs": [],
   "source": [
    "for i in range(0,10):\n",
    "    print(i)"
   ]
  },
  {
   "cell_type": "markdown",
   "id": "b07fdb8c",
   "metadata": {},
   "source": [
    "Wie aber auffällt werden lediglich die Zahlen von 1-9 ausgegeben!\n",
    "\n",
    "Dies liegt daran, dass der Befehl range(1,10) nicht als \"Zahlen von 0 bis und mit 10\" gemeint ist.\n",
    "Wir müssen den Code folgendermassen anpassen, um das gewünschte Resultat zu erzielen:"
   ]
  },
  {
   "cell_type": "code",
   "execution_count": null,
   "id": "258cd3d1",
   "metadata": {
    "scrolled": true
   },
   "outputs": [],
   "source": [
    "for i in range(0,11):\n",
    "    print(i)"
   ]
  },
  {
   "cell_type": "markdown",
   "id": "a94fd5cc-82f7-4cbd-b7f4-e47b00a05484",
   "metadata": {},
   "source": [
    "Wenn die Aufzählung von 0 beginnt, können wir den Code nochmals etwas vereinfachen, und folgenden Code schreiben:"
   ]
  },
  {
   "cell_type": "code",
   "execution_count": null,
   "id": "46c8dd6e-be91-4f22-8f8d-e9d9595dd15a",
   "metadata": {},
   "outputs": [],
   "source": [
    "for i in range(11):\n",
    "    print(i)"
   ]
  },
  {
   "cell_type": "markdown",
   "id": "61d33914",
   "metadata": {},
   "source": [
    "## Verschachtelte for-loops"
   ]
  },
  {
   "cell_type": "markdown",
   "id": "9b4e1e64",
   "metadata": {},
   "source": [
    "Wir können for-loops auch verschachteln (ähnlich wie bei den if-Anweisungen).\n",
    "\n",
    "Wir schauen uns dies anhand des folgenden Beispieles an:"
   ]
  },
  {
   "cell_type": "code",
   "execution_count": null,
   "id": "51ccf19c",
   "metadata": {},
   "outputs": [],
   "source": [
    "for i in range(1,6):\n",
    "    print(\"Abschnitt \",i)\n",
    "    for j in range(4):\n",
    "        print(j)\n",
    "        "
   ]
  },
  {
   "cell_type": "markdown",
   "id": "b1d5be14",
   "metadata": {},
   "source": [
    "Wir sehen, dass pro Abschnitt (1,2,3,4,5) jeweils der innere for-loop (for i in range(4) = 0,1,2,3) ausgegeben wird.\n",
    "\n",
    "Vergleichen Sie nun dieses Resultat mit dem folgenden:"
   ]
  },
  {
   "cell_type": "code",
   "execution_count": null,
   "id": "a900d364",
   "metadata": {},
   "outputs": [],
   "source": [
    "for j in range(4):\n",
    "    print(j)\n",
    "    for i in range(1,6):\n",
    "        print(\"Abschnitt \",i)\n",
    "    "
   ]
  },
  {
   "cell_type": "markdown",
   "id": "7000305c",
   "metadata": {},
   "source": [
    "Wir sehen also es kommt darauf an, welcher loop der \"innere\" und welches der \"äussere\" ist."
   ]
  },
  {
   "cell_type": "markdown",
   "id": "36233aee",
   "metadata": {},
   "source": [
    "## for i in range für fortgeschrittene:"
   ]
  },
  {
   "cell_type": "markdown",
   "id": "73ed4f4d",
   "metadata": {},
   "source": [
    "Der Befehl \"for i in range\" ist folgendermassen aufgebaut:\n",
    "\n",
    "for variabel in range(start,bis,schritte)\n",
    "\n",
    "wir können mittels dem \"schritte\"-Parameter des Befehls beeinflussen in was für einem Abstand die Zahlen ausgegeben werden. Wenn wir z.B alle geraden Zahlen von 0-100 ausgeben möchten, können wir den Parameter \"schritte\" 2 wählen, um in Zweierschritten von 0 bis 100 zu gelangen:"
   ]
  },
  {
   "cell_type": "code",
   "execution_count": null,
   "id": "62d9ad88",
   "metadata": {
    "scrolled": true
   },
   "outputs": [],
   "source": [
    "for i in range(0,101,2):\n",
    "    print(i)"
   ]
  },
  {
   "cell_type": "markdown",
   "id": "2746f75f",
   "metadata": {},
   "source": [
    "Wir können mittels des \"schritte\"-Parameters auch runterzählen. Sehen Sie sich folgende Beispiele dazu an:"
   ]
  },
  {
   "cell_type": "code",
   "execution_count": null,
   "id": "84178dac",
   "metadata": {},
   "outputs": [],
   "source": [
    "for i in range(100,0,-1):\n",
    "    print(i)"
   ]
  },
  {
   "cell_type": "code",
   "execution_count": null,
   "id": "a6f602b4",
   "metadata": {},
   "outputs": [],
   "source": [
    "for i in range(100,0,-10):\n",
    "    print(\"i:\",i)\n",
    "    \n",
    "print(\"\\n\")\n",
    "for j in range(100,-1,-10):\n",
    "    print(\"j:\",j)"
   ]
  },
  {
   "cell_type": "markdown",
   "id": "3fcc9304",
   "metadata": {},
   "source": [
    "## Aufgaben zum for-loop"
   ]
  },
  {
   "cell_type": "markdown",
   "id": "ca1fbc40",
   "metadata": {},
   "source": [
    "### Aufgabe 1"
   ]
  },
  {
   "cell_type": "markdown",
   "id": "a1994f61",
   "metadata": {},
   "source": [
    "Schreiben Sie einen for-loop, welcher die Zahlen von 500 - 1000 ausgibt:"
   ]
  },
  {
   "cell_type": "code",
   "execution_count": null,
   "id": "41f74322",
   "metadata": {},
   "outputs": [],
   "source": []
  },
  {
   "cell_type": "markdown",
   "id": "1aa58bc5-1dac-41a9-9610-1bb95c08f88d",
   "metadata": {},
   "source": [
    "<details>\n",
    "  <summary>Lösung:</summary>\n",
    "\n",
    "  <pre><code class=\"language-python\">\n",
    "for i in range(500,1001):\n",
    "      print(i)\n",
    "  </code></pre>\n",
    "</details>"
   ]
  },
  {
   "cell_type": "markdown",
   "id": "d474a3f9",
   "metadata": {},
   "source": [
    "### Aufgabe 2"
   ]
  },
  {
   "cell_type": "markdown",
   "id": "0ff1dacf",
   "metadata": {},
   "source": [
    "Schreiben Sie einen for-loop, welcher alle ungeraden Zahlen von 101 - 200 ausgibt:"
   ]
  },
  {
   "cell_type": "code",
   "execution_count": null,
   "id": "72584cb0",
   "metadata": {},
   "outputs": [],
   "source": []
  },
  {
   "cell_type": "markdown",
   "id": "10c4b6a6-f376-4043-992b-8cf333992401",
   "metadata": {},
   "source": [
    "<details>\n",
    "  <summary>Lösung:</summary>\n",
    "\n",
    "  <pre><code class=\"language-python\">\n",
    "for i in range(101,200,2):\n",
    "      print(i)\n",
    "  </code></pre>\n",
    "</details>"
   ]
  },
  {
   "cell_type": "markdown",
   "id": "8be47192",
   "metadata": {},
   "source": [
    "### Aufgabe 3"
   ]
  },
  {
   "cell_type": "markdown",
   "id": "4c463513",
   "metadata": {},
   "source": [
    "Schreiben Sie zwei verschachtelte for-loops: Der äussere loop, soll von 10 bis und mit 0 runterzählen, und der innere von 5 bis und mit 9 hochzählen:"
   ]
  },
  {
   "cell_type": "code",
   "execution_count": null,
   "id": "6a2f0d66",
   "metadata": {},
   "outputs": [],
   "source": []
  },
  {
   "cell_type": "markdown",
   "id": "76cd7080-68a4-486f-acfe-d5e0dd5860a8",
   "metadata": {},
   "source": [
    "<details>\n",
    "  <summary>Lösung:</summary>\n",
    "\n",
    "  <pre><code class=\"language-python\">\n",
    "for i in range(10,-1,-1):\n",
    "      print(\"\\n\")\n",
    "      print(f\"Zähler i ist bei {i}\")\n",
    "      for j in range(5,10):\n",
    "          print(f\"Zähler j ist bei {j}\")\n",
    "      \n",
    "  </code></pre>\n",
    "</details>"
   ]
  },
  {
   "cell_type": "markdown",
   "id": "c60115e1",
   "metadata": {},
   "source": [
    "### Aufgabe 4"
   ]
  },
  {
   "cell_type": "markdown",
   "id": "517043ec",
   "metadata": {},
   "source": [
    "Analysieren Sie folgenden Code:"
   ]
  },
  {
   "cell_type": "code",
   "execution_count": null,
   "id": "f70aab89",
   "metadata": {},
   "outputs": [],
   "source": [
    "wort = \"ABRACADABRA\"\n",
    "counter = 0\n",
    "for buchstabe in wort:\n",
    "    if buchstabe == \"A\":\n",
    "        counter += 1\n",
    "print(counter)"
   ]
  },
  {
   "cell_type": "markdown",
   "id": "5de1cea2",
   "metadata": {},
   "source": [
    "was macht dieser Code genau?"
   ]
  },
  {
   "cell_type": "markdown",
   "id": "de0587fb-7178-4b25-9967-2b74a6f67a93",
   "metadata": {},
   "source": []
  },
  {
   "cell_type": "markdown",
   "id": "bbe0edc8-7484-45ba-bb60-402c0a7fbbb9",
   "metadata": {},
   "source": [
    "<details>\n",
    "  <summary>Lösung:</summary>\n",
    "Der Code iteriert über jeden Buchstaben im Wort “ABRACADABRA” und prüft, ob er dem Buchstaben “A” entspricht. Jedes Mal, wenn dies zutrifft, wird der Zähler um 1 erhöht; am Ende gibt der Code die Gesamtzahl der gefundenen “A”s (5) aus.\n",
    "\n",
    "</details>"
   ]
  },
  {
   "cell_type": "markdown",
   "id": "18f1feea",
   "metadata": {},
   "source": [
    "## while-loops "
   ]
  },
  {
   "cell_type": "markdown",
   "id": "81061c4a",
   "metadata": {},
   "source": [
    "Ein while-Statement (also ein „Während“-Statement) wiederholt einen Code-Abschnitt immer wieder, solange bestimmte Bedingungen noch erfüllt sind. Hier ist ein Beispiel:"
   ]
  },
  {
   "cell_type": "code",
   "execution_count": null,
   "id": "bd663c9d",
   "metadata": {},
   "outputs": [],
   "source": [
    "timeLeft = 5\n",
    "while timeLeft > 0:           # Bedingung\n",
    "  print(timeLeft)             \n",
    "  timeLeft = timeLeft-1      \n",
    "print('Raketenstart!')           "
   ]
  },
  {
   "cell_type": "markdown",
   "id": "13393c85",
   "metadata": {},
   "source": [
    "Hier ist die allgemeine Struktur:\n",
    "\n",
    "Die erste Zeile ist die während - «Bedingung»:, wobei wir 'Bedingung' solche Ausdrücke nennen, die Wahr oder Falsch ausgeben (so wie ein if Statement)\n",
    "\n",
    "Danach setzen wir einen eingerückten Textblock (wieder so wie ein if Statement), der aus den Statements besteht, die wir immer wieder wiederholt sehen möchten.\n",
    "Wenn wir das Programm ausführst, wird das Folgende wiederholt:\n",
    "Die Bedingung wird überprüft; wenn die Bedingung Wahr ist, wird der Körper ausgeführt und im Anschluss wiederholen wir von vorne. Erst wenn die Bedingung als Falsch beurteilt wird, endet diese Schleife."
   ]
  },
  {
   "cell_type": "markdown",
   "id": "1c3878ff",
   "metadata": {},
   "source": [
    "Wir müssen darauf achten, dass die Bedingungen nicht stets Wahr oder stets Falsch sind. Im folgenden Beispiel sehen Sie eine Bedingung, welche immer Wahr sein wird, und daher einen sogenannten \"infinite-loop\" erzeugt:"
   ]
  },
  {
   "cell_type": "code",
   "execution_count": null,
   "id": "54f29227",
   "metadata": {
    "scrolled": true
   },
   "outputs": [],
   "source": [
    "while 2 + 3 == 5:\n",
    "    print(\"INFINITE LOOP\")"
   ]
  },
  {
   "cell_type": "markdown",
   "id": "f201a6ce",
   "metadata": {},
   "source": [
    "## Aufgaben zu while-loops:"
   ]
  },
  {
   "cell_type": "markdown",
   "id": "50cf144c",
   "metadata": {},
   "source": [
    "### Aufgabe 5"
   ]
  },
  {
   "cell_type": "markdown",
   "id": "9bdb228a",
   "metadata": {},
   "source": [
    "schreiben Sie mittels while-loop ein Programm, welches solange das wort \"WARTEN\" ausspuckt, bis die Variabel x den Wert 20 erreicht hat. Die Variabel soll zu Beginn den Wert -10 haben, und mit jeder Iteration um 1 erhöht werden."
   ]
  },
  {
   "cell_type": "code",
   "execution_count": null,
   "id": "6c6a3170",
   "metadata": {},
   "outputs": [],
   "source": []
  },
  {
   "cell_type": "markdown",
   "id": "799bd91c-17cf-423c-9492-1e263027e475",
   "metadata": {},
   "source": [
    "<details>\n",
    "  <summary>Lösung:</summary>\n",
    "\n",
    "  <pre><code class=\"language-python\">\n",
    "x = -10\n",
    "while x < 20:\n",
    "    print(\"Warten\")\n",
    "    x = x + 1\n",
    "      \n",
    "  </code></pre>\n",
    "</details>"
   ]
  },
  {
   "cell_type": "markdown",
   "id": "71221b26",
   "metadata": {},
   "source": [
    "### Aufgabe 6"
   ]
  },
  {
   "cell_type": "markdown",
   "id": "fa1eb35c",
   "metadata": {},
   "source": [
    "Gegeben ist folgender for-loop:"
   ]
  },
  {
   "cell_type": "code",
   "execution_count": null,
   "id": "9d090a25",
   "metadata": {},
   "outputs": [],
   "source": [
    "for i in range(-10,10,2):\n",
    "    print(i)"
   ]
  },
  {
   "cell_type": "markdown",
   "id": "d0450a80",
   "metadata": {},
   "source": [
    "Schreiben sie diesen loop in einen while-loop um."
   ]
  },
  {
   "cell_type": "code",
   "execution_count": null,
   "id": "8ca3530e-792f-4034-9611-ac71dc26b195",
   "metadata": {},
   "outputs": [],
   "source": []
  },
  {
   "cell_type": "markdown",
   "id": "47d217e8-f878-4bc9-8c6b-661bdaf7c127",
   "metadata": {},
   "source": [
    "<details>\n",
    "  <summary>Lösung:</summary>\n",
    "\n",
    "  <pre><code class=\"language-python\">\n",
    "x = -10\n",
    "while x < 10:\n",
    "    print(x)\n",
    "    x = x + 2\n",
    "      \n",
    "  </code></pre>\n",
    "</details>"
   ]
  },
  {
   "cell_type": "markdown",
   "id": "a8844bc1",
   "metadata": {},
   "source": [
    "## Break & Continue"
   ]
  },
  {
   "cell_type": "markdown",
   "id": "bab46029",
   "metadata": {},
   "source": [
    "Um \"infinite-loop\" und andere missgeschicke zu vermeiden, können wir Break- und Continue-Statements verwenden.\n",
    "\n",
    "Wenn der Befehl \"break\" ausgeführt wird, verlässt python den laufenden loop und bewegt sich zur Codezeile direkt nach dem loop.\n",
    "\n",
    "Hier einige Beispiele dazu:"
   ]
  },
  {
   "cell_type": "code",
   "execution_count": null,
   "id": "e110b0bf",
   "metadata": {},
   "outputs": [],
   "source": [
    "# Breche loop ab, sobald i = 10 ist:\n",
    "i = 0\n",
    "while True:\n",
    "    print(\"i ist: \",i)\n",
    "    if i == 10: #prüfen mittels if-Anweisung\n",
    "        print(\"Abbruch\")\n",
    "        break\n",
    "    i += 1"
   ]
  },
  {
   "cell_type": "code",
   "execution_count": null,
   "id": "630798ee",
   "metadata": {},
   "outputs": [],
   "source": [
    "# breche ab, wenn der Nenner 0 ist:\n",
    "for i in range(10,-10,-1)\n"
   ]
  },
  {
   "cell_type": "markdown",
   "id": "694b6416",
   "metadata": {},
   "source": [
    "Wenn der Befehl \"continue\" ausgeführt wird, überspringt python die aktuelle Iteration und setzt mit der Nächsten fort.\n"
   ]
  },
  {
   "cell_type": "code",
   "execution_count": null,
   "id": "68220565",
   "metadata": {
    "scrolled": true
   },
   "outputs": [],
   "source": [
    "for i in range(20):\n",
    "    if i == 12:\n",
    "        print(\"Aussetzen\")\n",
    "        continue\n",
    "    else:\n",
    "        print(\"i: \",i)"
   ]
  },
  {
   "cell_type": "markdown",
   "id": "57877613",
   "metadata": {},
   "source": [
    "## Aufgaben zu break und continue"
   ]
  },
  {
   "cell_type": "markdown",
   "id": "f037de18",
   "metadata": {},
   "source": [
    "### Aufgabe 7"
   ]
  },
  {
   "cell_type": "markdown",
   "id": "50d78591",
   "metadata": {},
   "source": [
    "schreiben sie folgendes Programm um, sodass keine Division durch null durchgeführt werden kann. Ergänzen sie continue-statements:"
   ]
  },
  {
   "cell_type": "code",
   "execution_count": null,
   "id": "383593b7",
   "metadata": {
    "scrolled": true
   },
   "outputs": [],
   "source": [
    "for a in range(-5,5):\n",
    "    for b in range(-5,5):\n",
    "        print(a / b)"
   ]
  },
  {
   "cell_type": "code",
   "execution_count": null,
   "id": "98fb6585-fbf3-42f6-afde-5356022b9cad",
   "metadata": {},
   "outputs": [],
   "source": []
  },
  {
   "cell_type": "markdown",
   "id": "01a1b9ec-cd95-42f9-b8b0-15232ac0cb1a",
   "metadata": {},
   "source": [
    "<details>\n",
    "  <summary>Lösung:</summary>\n",
    "\n",
    "  <pre><code class=\"language-python\">\n",
    "for a in range(-5,5):\n",
    "    for b in range(-5,5):\n",
    "        if b == 0:\n",
    "            continue\n",
    "        else:\n",
    "            print(a / b)\n",
    "      \n",
    "      \n",
    "  </code></pre>\n",
    "</details>"
   ]
  },
  {
   "cell_type": "markdown",
   "id": "9dc13b31",
   "metadata": {},
   "source": [
    "### Aufgabe 8"
   ]
  },
  {
   "cell_type": "markdown",
   "id": "3ff20d6c",
   "metadata": {},
   "source": [
    "Schreiben sie ein Programm, welches einen infinte loop (while True) erzeugt, und stets das wort \"Loop\" ausgibt. Brechen sie diesen Loop ab, sobald das Wort 1000 mal ausgegeben wurde. Nutzen Sie ein break-Statement."
   ]
  },
  {
   "cell_type": "code",
   "execution_count": null,
   "id": "ca778215",
   "metadata": {},
   "outputs": [],
   "source": []
  },
  {
   "cell_type": "markdown",
   "id": "f534b249",
   "metadata": {},
   "source": [
    "<details>\n",
    "  <summary>Lösung:</summary>\n",
    "\n",
    "  <pre><code class=\"language-python\">\n",
    "count = 0\n",
    "while True:\n",
    "      print(\"Loop\")\n",
    "      count += 1\n",
    "      if count == 1000:\n",
    "          break\n",
    "      \n",
    "      \n",
    "  </code></pre>\n",
    "</details>"
   ]
  }
 ],
 "metadata": {
  "kernelspec": {
   "display_name": "Python 3 (ipykernel)",
   "language": "python",
   "name": "python3"
  },
  "language_info": {
   "codemirror_mode": {
    "name": "ipython",
    "version": 3
   },
   "file_extension": ".py",
   "mimetype": "text/x-python",
   "name": "python",
   "nbconvert_exporter": "python",
   "pygments_lexer": "ipython3",
   "version": "3.9.7"
  }
 },
 "nbformat": 4,
 "nbformat_minor": 5
}
