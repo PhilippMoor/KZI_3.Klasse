{
 "cells": [
  {
   "cell_type": "markdown",
   "id": "12b7d5c7-7238-4208-8cab-011897e51e00",
   "metadata": {},
   "source": [
    "## Aufgabe 1"
   ]
  },
  {
   "cell_type": "markdown",
   "id": "e56e64e6-b970-4655-b165-b7d11465d45a",
   "metadata": {},
   "source": [
    "Schreibe ein Programm, das die Basis und die Höhe eines Dreiecks von der Konsole einliest und die Fläche berechnet. "
   ]
  },
  {
   "cell_type": "code",
   "execution_count": null,
   "id": "5e998260-94a6-4d51-abe7-126e24d5f683",
   "metadata": {},
   "outputs": [],
   "source": []
  },
  {
   "cell_type": "markdown",
   "id": "dcf7943f-3eec-42c4-a5c5-6dd00c1a1eb7",
   "metadata": {},
   "source": [
    "## Aufgabe 2"
   ]
  },
  {
   "cell_type": "markdown",
   "id": "2f29af20-6d38-46e5-b299-363b0fdf5cff",
   "metadata": {},
   "source": [
    "Schreibe ein Programm, das das Alter einer Person in Jahren einliest und berechnet, wie viele Sekunden diese Person ungefähr gelebt hat. Du kannst davon ausgehen, dass ein Jahr immer 365 Tage hat."
   ]
  },
  {
   "cell_type": "markdown",
   "id": "1da12bb7-daa9-4337-8ccf-ee0f59a7f63a",
   "metadata": {},
   "source": [
    "## Aufgabe 3"
   ]
  },
  {
   "cell_type": "markdown",
   "id": "d172ca37-8c8f-494b-bb93-66a4ffb6c42b",
   "metadata": {},
   "source": [
    "Schreibe ein Programm, das ein Gewicht in Kilogramm von der Konsole einliest und dieses in Gramm, Pfund und Unzen umrechnet. Die Umrechnungsformeln lauten:\n",
    "\n",
    "\t•\tGramm = Kilogramm \\times 1000\n",
    "\t•\tPfund = Kilogramm \\times 2.20462\n",
    "\t•\tUnzen = Kilogramm \\times 35.274\n",
    "Gib das Gewicht in allen drei Einheiten aus."
   ]
  },
  {
   "cell_type": "code",
   "execution_count": null,
   "id": "893d39fb-d978-4ac6-a6cc-27e3b165a579",
   "metadata": {},
   "outputs": [],
   "source": []
  }
 ],
 "metadata": {
  "kernelspec": {
   "display_name": "Python 3 (ipykernel)",
   "language": "python",
   "name": "python3"
  },
  "language_info": {
   "codemirror_mode": {
    "name": "ipython",
    "version": 3
   },
   "file_extension": ".py",
   "mimetype": "text/x-python",
   "name": "python",
   "nbconvert_exporter": "python",
   "pygments_lexer": "ipython3",
   "version": "3.9.7"
  }
 },
 "nbformat": 4,
 "nbformat_minor": 5
}
