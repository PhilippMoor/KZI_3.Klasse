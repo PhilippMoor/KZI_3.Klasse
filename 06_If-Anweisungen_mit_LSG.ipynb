{
 "cells": [
  {
   "cell_type": "markdown",
   "id": "79b576ae-f5a3-4b31-9f80-cd3c0e7ba4b3",
   "metadata": {},
   "source": [
    "# If-Anweisungen"
   ]
  },
  {
   "cell_type": "markdown",
   "id": "95e77239",
   "metadata": {},
   "source": [
    "If-Anweisungen sind ein grundlegendes Konzept in der Programmierung, das es ermöglicht, Entscheidungen im Code zu treffen und verschiedene Anweisungen abhängig von Bedingungen auszuführen. In Python verwenden wir in der Regel if, elif (else if) und else, um bedingte Anweisungen zu implementieren."
   ]
  },
  {
   "cell_type": "markdown",
   "id": "c18e327c",
   "metadata": {},
   "source": [
    "# Einfache If-Anweisung"
   ]
  },
  {
   "cell_type": "markdown",
   "id": "24d867fd",
   "metadata": {},
   "source": [
    "Eine einfache if-Anweisung ermöglicht die Ausführung einer Anweisung, wenn eine Bedingung wahr ist. Wenn die Bedingung nicht erfüllt ist, wird die Anweisung übersprungen.\n",
    "\n",
    "Hier ein Beispiel dazu:"
   ]
  },
  {
   "cell_type": "code",
   "execution_count": null,
   "id": "366687b6",
   "metadata": {},
   "outputs": [],
   "source": [
    "passwort = \"123\"\n",
    "eingabe = input(\"Passwort: \")\n",
    "if eingabe == passwort:\n",
    "    print(\"Zugang gewährt!\")"
   ]
  },
  {
   "cell_type": "markdown",
   "id": "f3c220ec",
   "metadata": {},
   "source": [
    "In diesem Beispiel wird jedoch nichts ausgeführt wenn die Bedingung (eingabe == passwort) Falsch ist.\n",
    "Sollten wir im Falle, dass die Bedingung Falsch ist ebenfalls eine Rückgabe haben wollen, können wir den Befehl \"else\" verwenden."
   ]
  },
  {
   "cell_type": "code",
   "execution_count": null,
   "id": "6447b288",
   "metadata": {},
   "outputs": [],
   "source": [
    "passwort = \"123\"\n",
    "eingabe = input(\"Passwort: \")\n",
    "if eingabe == passwort:\n",
    "    print(\"Zugang gewährt!\")\n",
    "else:\n",
    "    print(\"Falsches Passwort! Kein Zugang!\")"
   ]
  },
  {
   "cell_type": "markdown",
   "id": "bcfed90f",
   "metadata": {},
   "source": [
    "Achten Sie darauf, dass ein else gleich eingerückt sein muss, wie die dazugehörige if-Anweisung. Sollte dies nicht der Fall sein, wird Ihnen Python eine Fehlermeldung (unexpected indent -> unerwartete Einrückung) ausgeben:"
   ]
  },
  {
   "cell_type": "code",
   "execution_count": null,
   "id": "1ea91cf7",
   "metadata": {},
   "outputs": [],
   "source": [
    "passwort = \"123\"\n",
    "eingabe = input(\"Passwort: \")\n",
    "if eingabe == passwort:\n",
    "    print(\"Zugang gewährt!\")\n",
    "        else:\n",
    "            print(\"Falsches Passwort! Kein Zugang!\")"
   ]
  },
  {
   "cell_type": "markdown",
   "id": "bbec753a",
   "metadata": {},
   "source": [
    "# Verschachtelte if-Anweisungen"
   ]
  },
  {
   "cell_type": "markdown",
   "id": "3fc82135",
   "metadata": {},
   "source": [
    "Verschachtelte if-Anweisungen erlauben die Überprüfung von Bedingungen in Abhängigkeit von anderen Bedingungen. Dies ermöglicht komplexere Entscheidungsstrukturen."
   ]
  },
  {
   "cell_type": "markdown",
   "id": "71c2892b",
   "metadata": {},
   "source": [
    "Im folgenden Beispiel möchten wir prüfen, ob sowohl ein Passwort korrekt eingegeben wird, und das Alter des Benutzers/der Benutzering grösser oder gleich 18 Jahre ist. Nur wenn beide Bedingungen erfüllt sind, soll Zugriff gewährt werden."
   ]
  },
  {
   "cell_type": "code",
   "execution_count": null,
   "id": "44cb148e",
   "metadata": {},
   "outputs": [],
   "source": [
    "passwort = \"123\"\n",
    "eingabe = input(\"Passwort: \")\n",
    "alter = int(input(\"Alter: \")) # Achtung! Alter ist eine Ganzzahlige Variable\n",
    "if eingabe == passwort:\n",
    "    if alter >= 18:\n",
    "        print(\"Zugang gewährt!\")\n",
    "    else:\n",
    "        print(\"Zu Jung! Kein Zugang!\")"
   ]
  },
  {
   "cell_type": "markdown",
   "id": "4cd8236b",
   "metadata": {},
   "source": [
    "Beim obigen Beispiel wird jedoch keine Rückmeldung gegeben, sollte das Passwort bereits Falsch sein. Wie können wir in diesem Falle ebenfalls eine Rückmeldung (\"Passwort Falsch!\") geben? Versuchen Sie dies im untenstehenden Code zu ergänzen:"
   ]
  },
  {
   "cell_type": "code",
   "execution_count": null,
   "id": "54590cad",
   "metadata": {},
   "outputs": [],
   "source": [
    "passwort = \"123\"\n",
    "eingabe = input(\"Passwort: \")\n",
    "alter = int(input(\"Alter: \"))\n",
    "if eingabe == passwort:\n",
    "    if alter >= 18:\n",
    "        print(\"Zugang gewährt!\")\n",
    "    else:\n",
    "        print(\"Zu Jung! Kein Zugang!\")"
   ]
  },
  {
   "cell_type": "markdown",
   "id": "15f7c5a2-92c5-4077-84cc-b67e97d350a2",
   "metadata": {},
   "source": [
    "<details>\n",
    "  <summary>Lösung:</summary>\n",
    "\n",
    "  <pre><code class=\"language-python\">\n",
    "passwort = \"123\"\n",
    "eingabe = input(\"Passwort: \")\n",
    "alter = int(input(\"Alter: \")) # Achtung! Alter ist eine Ganzzahlige Variabel\n",
    "if eingabe == passwort:\n",
    "    if alter >= 18:\n",
    "        print(\"Zugang gewährt!\")\n",
    "    else:\n",
    "        print(\"Zu Jung! Kein Zugang!\")\n",
    "else:\n",
    "      print(\"Passwort Falsch!\")\n",
    "  </code></pre>\n",
    "</details>"
   ]
  },
  {
   "cell_type": "markdown",
   "id": "ffc6557a",
   "metadata": {},
   "source": [
    "Die Abfrage beider Bedingungen kann auch in einer if-Anweisung erledigt werden. Versuchen Sie die zwei Logischen Aussagen mittels \"and\" zu verknüpfen und somit den Code ein wenig kompakter zu schreiben."
   ]
  },
  {
   "cell_type": "code",
   "execution_count": null,
   "id": "ced2e0a7-c153-435a-83c2-d8c596229310",
   "metadata": {},
   "outputs": [],
   "source": [
    "passwort = \"123\"\n",
    "eingabe = input(\"Passwort: \")\n",
    "alter = int(input(\"Alter: \"))"
   ]
  },
  {
   "cell_type": "markdown",
   "id": "5cb67291-232f-48d5-b2b0-e43ce6c84cab",
   "metadata": {},
   "source": [
    "<details>\n",
    "  <summary>Lösung:</summary>\n",
    "\n",
    "  <pre><code class=\"language-python\">\n",
    "passwort = \"123\"\n",
    "eingabe = input(\"Passwort: \")\n",
    "alter = int(input(\"Alter: \")) # Achtung! Alter ist eine Ganzzahlige Variabel\n",
    "if (eingabe == passwort) and (alter >= 18):\n",
    "    print(\"Zugang gewährt!\")\n",
    "else:\n",
    "    print(\"Kein Zugang!\")\n",
    "  </code></pre>\n",
    "</details>"
   ]
  },
  {
   "cell_type": "markdown",
   "id": "64cbae11",
   "metadata": {},
   "source": [
    "# if, elif und else:"
   ]
  },
  {
   "cell_type": "markdown",
   "id": "f8e55d98",
   "metadata": {},
   "source": [
    "Die elif (else if) -Anweisung wird verwendet, um alternative Bedingungen zu überprüfen, wenn die vorherige if-Bedingung falsch ist. Dies ermöglicht die Überprüfung mehrerer Bedingungen nacheinander.\n",
    "Betrachten wir folgendes Beispiel:\n",
    "\n",
    "In einem Test können 100 Punkte erreicht werden. Statt klassischer Noten wird die Punktzahl einer Kategorie zugeordnet:\n",
    "\n",
    "A: 0 - 24 Punkte\n",
    "\n",
    "B: 25 - 49 Punkte\n",
    "\n",
    "C: 50 - 74 Punkte\n",
    "\n",
    "D: 75 - 100 Punkte\n",
    "\n",
    "Diese Kategorie soll nun mittels einem Python-Programm ermittelt werden."
   ]
  },
  {
   "cell_type": "code",
   "execution_count": null,
   "id": "0e35f43f-0a25-4193-9f89-6cc96e7d5de3",
   "metadata": {},
   "outputs": [],
   "source": [
    "p = int(input(\"Punkte: \"))\n",
    "if p > 100:\n",
    "    print(\"Falsche Punktzahl\")\n",
    "elif p >= 75:\n",
    "    print(\"D\")\n",
    "elif p >= 50:\n",
    "    print(\"C\")\n",
    "elif p >= 25:\n",
    "    print(\"B\")\n",
    "elif p >= 0:\n",
    "    print(\"A\")\n",
    "else:\n",
    "    print(\"Falsche Punktzahl\")"
   ]
  },
  {
   "cell_type": "markdown",
   "id": "b2cc323c",
   "metadata": {},
   "source": [
    "Die \"elif\" abfragen werden erst durchgeführt, sollte die obenstehende if-Anweisung Falsch sein."
   ]
  },
  {
   "cell_type": "markdown",
   "id": "68196d78",
   "metadata": {},
   "source": [
    "# Aufgaben:"
   ]
  },
  {
   "cell_type": "markdown",
   "id": "d9741eaf",
   "metadata": {},
   "source": [
    "## Aufgabe 1:"
   ]
  },
  {
   "cell_type": "markdown",
   "id": "54021375",
   "metadata": {},
   "source": [
    "Weshalb können wir den Python-Code aus dem \"if, elif und else\"-Beispiel nicht folgendermassen schreiben?"
   ]
  },
  {
   "cell_type": "code",
   "execution_count": null,
   "id": "b715ba18",
   "metadata": {},
   "outputs": [],
   "source": [
    "p = int(input(\"Punkte: \"))\n",
    "if p > 100:\n",
    "    print(\"Falsche Punktzahl\")\n",
    "if p >= 75:\n",
    "    print(\"D\")\n",
    "if p >= 50:\n",
    "    print(\"C\")\n",
    "if p >= 25:\n",
    "    print(\"B\")\n",
    "if p >= 0:\n",
    "    print(\"A\")\n",
    "else:\n",
    "    print(\"Falsche Punktzahl\")"
   ]
  },
  {
   "cell_type": "markdown",
   "id": "60f206a8",
   "metadata": {},
   "source": [
    "Versuche in eigenen Worten zu erklären, was schief läuft beim Testen:"
   ]
  },
  {
   "cell_type": "markdown",
   "id": "6fcaef91",
   "metadata": {},
   "source": []
  },
  {
   "cell_type": "markdown",
   "id": "36506c5a-9bdb-4362-b47b-4b067c0e1a5b",
   "metadata": {},
   "source": [
    "<details>\n",
    "  <summary>Lösung:</summary>\n",
    "\n",
    "  <pre>\n",
    "Die Bedingungen für die Notenvergabe sind nicht korrekt, weil sie alle aufeinanderfolgend und unabhängig abgefragt werden. Da jede Bedingung mit if geprüft wird, werden alle zutreffenden Bedingungen ausgeführt, anstatt nur diejenige, die für die höchste erreichbare Note zutrifft. Zum Beispiel, wenn p = 80, erfüllt der Code alle Bedingungen für D, C, B, und A und gibt daher alle diese Noten aus.\n",
    "  </pre>\n",
    "</details>"
   ]
  },
  {
   "cell_type": "markdown",
   "id": "5a2a6736",
   "metadata": {},
   "source": [
    "## Aufgabe 2:"
   ]
  },
  {
   "cell_type": "markdown",
   "id": "13c2e2a4",
   "metadata": {},
   "source": [
    "Weshalb können wir den Python-Code aus dem \"if, elif und else\"-Beispiel nicht folgendermassen schreiben?"
   ]
  },
  {
   "cell_type": "code",
   "execution_count": null,
   "id": "dd8c9ed6",
   "metadata": {},
   "outputs": [],
   "source": [
    "p = int(input(\"Punkte: \"))\n",
    "if p < 0:\n",
    "    print(\"Falsche Punktzahl\")\n",
    "elif p >= 0:\n",
    "    print(\"A\")\n",
    "elif p >= 25:\n",
    "    print(\"B\")\n",
    "elif p >= 50:\n",
    "    print(\"C\")\n",
    "elif p >= 75:\n",
    "    print(\"D\")\n",
    "else:\n",
    "    print(\"Falsche Punktzahl\")"
   ]
  },
  {
   "cell_type": "markdown",
   "id": "aba622cb",
   "metadata": {},
   "source": [
    "Versuche in eigenen Worten zu erklären, was schief läuft beim Testen:"
   ]
  },
  {
   "cell_type": "markdown",
   "id": "3c84c0a7-421b-43fd-81b0-8ea834f0545c",
   "metadata": {},
   "source": []
  },
  {
   "cell_type": "markdown",
   "id": "3cfc72e5-1c67-4b20-bd5f-515d1c94c327",
   "metadata": {},
   "source": [
    "<details>\n",
    "  <summary>Lösung:</summary>\n",
    "\n",
    "  <pre>\n",
    "Die Bedingung p >= 0 trifft für alle gültigen Punktzahlen (0 oder mehr) zu und wird als erstes geprüft. Dadurch werden die elif-Bedingungen für B, C, und D nie ausgeführt.\n",
    "Die Reihenfolge der Bedingungen ist entscheidend: Um sicherzustellen, dass die höchste mögliche Note zuerst überprüft wird, müssen die Bedingungen in umgekehrter Reihenfolge von höchster zu niedrigster Punktzahl stehen.\n",
    "  </pre>\n",
    "  <pre><code class=\"language-python\">\n",
    "p = int(input(\"Punkte: \"))\n",
    "\n",
    "if p > 100 or p < 0:\n",
    "    print(\"Falsche Punktzahl\")\n",
    "elif p >= 75:\n",
    "    print(\"D\")\n",
    "elif p >= 50:\n",
    "    print(\"C\")\n",
    "elif p >= 25:\n",
    "    print(\"B\")\n",
    "else:\n",
    "    print(\"A\")\n",
    "  </code></pre>\n",
    "  \n",
    "</details>\n"
   ]
  },
  {
   "cell_type": "markdown",
   "id": "d3199262",
   "metadata": {},
   "source": [
    "## Aufgabe 3:"
   ]
  },
  {
   "cell_type": "markdown",
   "id": "26195dd5",
   "metadata": {},
   "source": [
    "Implementieren Sie Python-Code, welcher zwei Zahlen vergleicht und ausgibt, welche der beiden Zahlen grösser ist. Falls beide Zahlen gleich sind, geben Sie aus, dass sie gleich sind."
   ]
  },
  {
   "cell_type": "code",
   "execution_count": null,
   "id": "1dc8df7d",
   "metadata": {},
   "outputs": [],
   "source": []
  },
  {
   "cell_type": "markdown",
   "id": "dac664a6-3b1b-426e-a6c2-6d7dd05f6635",
   "metadata": {},
   "source": [
    "<details>\n",
    "  <summary>Lösung:</summary>\n",
    "\n",
    "  <pre><code class=\"language-python\">\n",
    "# Zwei Zahlen eingeben\n",
    "zahl1 = int(input(\"Geben Sie die erste Zahl ein: \"))\n",
    "zahl2 = int(input(\"Geben Sie die zweite Zahl ein: \"))\n",
    "\n",
    "# Vergleichslogik\n",
    "if zahl1 > zahl2:\n",
    "    print(f\"{zahl1} ist größer als {zahl2}\")\n",
    "elif zahl1 < zahl2:\n",
    "    print(f\"{zahl2} ist größer als {zahl1}\")\n",
    "else:\n",
    "    print(\"Beide Zahlen sind gleich\")\n",
    "  </code></pre>\n",
    "</details>"
   ]
  },
  {
   "cell_type": "markdown",
   "id": "89fc0598",
   "metadata": {},
   "source": [
    "## Aufgabe 4:"
   ]
  },
  {
   "cell_type": "markdown",
   "id": "be5863ee",
   "metadata": {},
   "source": [
    "Schreiben Sie Python-Code, der den Endpreis eines Produkts berechnet. Wenn der Preis des Produkts grösser oder gleich 100 ist, wird ein Rabatt von 10% gewährt. Berechnen Sie den Endpreis und geben Sie ihn aus."
   ]
  },
  {
   "cell_type": "code",
   "execution_count": null,
   "id": "0f3941aa",
   "metadata": {},
   "outputs": [],
   "source": []
  },
  {
   "cell_type": "markdown",
   "id": "f4070952-510d-4ddd-96b2-ef49a8e74859",
   "metadata": {},
   "source": [
    "<details>\n",
    "  <summary>Lösung:</summary>\n",
    "\n",
    "  <pre><code class=\"language-python\">\n",
    "# Produktpreis eingeben\n",
    "preis = float(input(\"Geben Sie den Preis des Produkts ein: \"))\n",
    "\n",
    "# Rabattberechnung\n",
    "if preis >= 100:\n",
    "    endpreis = preis * 0.9  # 10% Rabatt\n",
    "else:\n",
    "    endpreis = preis  # Kein Rabatt\n",
    "\n",
    "# Endpreis ausgeben\n",
    "print(f\"Der Endpreis beträgt: {endpreis:.2f} EUR\")\n",
    "  </code></pre>\n",
    "</details>"
   ]
  },
  {
   "cell_type": "markdown",
   "id": "36fe53ee",
   "metadata": {},
   "source": [
    "## Aufgabe 5:"
   ]
  },
  {
   "cell_type": "markdown",
   "id": "a238ef24",
   "metadata": {},
   "source": [
    "Schreiben Sie ein Programm, das das Alter eines Benutzers abfragt. Basierend auf dem Alter soll das Programm die Person in eine der folgenden Klassen einteilen:\n",
    "\n",
    "Kind (0-9)\n",
    "\n",
    "Jugendlicher(10-18)\n",
    "\n",
    "Erwachsener(18-59)\n",
    "\n",
    "Senior(60+)"
   ]
  },
  {
   "cell_type": "code",
   "execution_count": null,
   "id": "5dc96a84",
   "metadata": {},
   "outputs": [],
   "source": []
  },
  {
   "cell_type": "markdown",
   "id": "1e164561-aed7-4f01-b118-0b36d9c22182",
   "metadata": {},
   "source": [
    "<details>\n",
    "  <summary>Lösung:</summary>\n",
    "\n",
    "  <pre><code class=\"language-python\">\n",
    "# Alter des Benutzers eingeben\n",
    "alter = int(input(\"Bitte geben Sie Ihr Alter ein: \"))\n",
    "\n",
    "# Altersklassifizierung\n",
    "if 0 <= alter <= 9:\n",
    "    print(\"Sie sind ein Kind.\")\n",
    "elif 10 <= alter <= 18:\n",
    "    print(\"Sie sind ein Jugendlicher.\")\n",
    "elif 19 <= alter <= 59:\n",
    "    print(\"Sie sind ein Erwachsener.\")\n",
    "elif alter >= 60:\n",
    "    print(\"Sie sind ein Senior.\")\n",
    "else:\n",
    "    print(\"Ungültige Altersangabe.\")\n",
    "  </code></pre>\n",
    "</details>"
   ]
  },
  {
   "cell_type": "markdown",
   "id": "29673101-a396-49a1-a3f9-6a2a53590e00",
   "metadata": {},
   "source": [
    "## Aufgabe 6:\n",
    "\n",
    "So weit sahen wir im «condition»-Teil einer if-Aussage einen einfachen numerischen Vergleich x > y, der wahr ist, wenn x größer als y, und falsch, wenn x kleiner oder gleich y. Allgemein werden Ausdrücke, deren Wert entweder wahr oder falsch ist, Boolean genannt (siehe George Boole; auf Deutsch sagt man auch \"boolesch\"). In Python wird der bool-Typ benutzt, um Werte von Boolean-Ausdrücken zu repräsentieren. Für diesen Typ existieren nur zwei Werte: True und False.\n"
   ]
  },
  {
   "cell_type": "code",
   "execution_count": null,
   "id": "c2200c01-3cce-45dc-a2da-4c8dc3934a5c",
   "metadata": {},
   "outputs": [],
   "source": [
    "#Beispiel:\n",
    "print(2>1)\n",
    "b = False\n",
    "print(b)\n",
    "print(type(b), type(2>1), type(True))"
   ]
  },
  {
   "cell_type": "markdown",
   "id": "a5cb2a02-0aae-4090-aeea-cad3486212d9",
   "metadata": {},
   "source": [
    "Schreibe nun eine if-Anweisung, welche immer ausgeführt wird und eine, welche nie ausgeführt wird mit diesem Wissen über Boolean-Ausdrücke:"
   ]
  },
  {
   "cell_type": "code",
   "execution_count": null,
   "id": "f2876651-8341-405c-bfc3-cad16ab8ca2b",
   "metadata": {},
   "outputs": [],
   "source": []
  },
  {
   "cell_type": "markdown",
   "id": "3262a019-c693-453d-8e4f-ae454e5b20f1",
   "metadata": {},
   "source": [
    "<details>\n",
    "  <summary>Lösung:</summary>\n",
    "\n",
    "  <pre><code class=\"language-python\">\n",
    "# Beispiele:\n",
    "if 100<200:\n",
    "    print(\"Immer Wahr\")\n",
    "if 4 % 3 == 0:\n",
    "    print(\"Nie Wahr\")\n",
    "if True:\n",
    "    print(\"Wahr\")\n",
    "if False:\n",
    "    print(\"Falsch\")\n",
    "  </code></pre>\n",
    "</details>"
   ]
  },
  {
   "cell_type": "markdown",
   "id": "8f6b290d-3450-4932-81d9-30b3910e09d5",
   "metadata": {},
   "source": [
    "## Aufgabe 7:\n",
    "\n",
    "Schreibe ein Programm, das einen Integer von input einliest, dann eine der Wörter Positive, Negative, oder Zero ausgibt, entsprechend dem, ob die Nummer positiv, negativ oder Null ist.\n"
   ]
  },
  {
   "cell_type": "code",
   "execution_count": null,
   "id": "94f05bbf-b9e1-4279-a123-2de5daa91e76",
   "metadata": {},
   "outputs": [],
   "source": []
  },
  {
   "cell_type": "markdown",
   "id": "a14dd64b-a3f9-4895-9891-5f8b6ebea7a3",
   "metadata": {},
   "source": [
    "<details>\n",
    "  <summary>Lösung:</summary>\n",
    "\n",
    "  <pre><code class=\"language-python\">\n",
    "zahl = int(input(\"Geben Sie eine Zahl ein:\"))\n",
    "if zahl > 0:\n",
    "  </code></pre>\n",
    "</details>"
   ]
  },
  {
   "cell_type": "markdown",
   "id": "8c17932a",
   "metadata": {},
   "source": [
    "## Schwierige Zusatzaufgabe"
   ]
  },
  {
   "cell_type": "markdown",
   "id": "3f59acfe",
   "metadata": {},
   "source": [
    "Schreiben Sie ein Programm, das die Benutzerregistrierung überwacht. Das Programm sollte sicherstellen, dass das vom Benutzer eingegebene Passwort bestimmten Sicherheitskriterien entspricht, wie z.B. eine Mindestlänge, Groß- und Kleinbuchstaben und Zahlen. Das Programm sollte dem Benutzer mitteilen, ob das Passwort akzeptiert wurde oder nicht.\n",
    "\n",
    "Mindestlänge: 9 Zeichen\n",
    "Je mindestens ein Gross und Kleinbuchstaben vorhanden\n",
    "Mindestens eine Zahl vorhanden\n",
    "\n",
    "(nutze die \"len(string)\"- Funktion um die länge zu messen."
   ]
  },
  {
   "cell_type": "markdown",
   "id": "3abbd452-6200-4713-9420-423c0b296316",
   "metadata": {},
   "source": [
    "<details>\n",
    "  <summary>Tipps:</summary>\n",
    "    Nutze die len(string)-Funktion, um die Länge des Passworts zu bestimmen.\n",
    "    Erstelle einen for-loop (for symbol in passwort), um durch alle Buchstaben durchzugehen.\n",
    "    Nutze nun die Funktionen symbol.islower() und symbol.isupper(), um zu bestimmen, ob ein Buchstabe klein oder grossgeschrieben ist.\n",
    "    Mit symbol.isdigit() kannst du bestimmen, ob ein symbol eine Ziffer ist.\n",
    "  <pre></pre>\n",
    "</details>"
   ]
  },
  {
   "cell_type": "code",
   "execution_count": null,
   "id": "3747abab",
   "metadata": {},
   "outputs": [],
   "source": []
  },
  {
   "cell_type": "markdown",
   "id": "4cbf4649-516f-41e4-8d4c-b566dc843a95",
   "metadata": {},
   "source": [
    "<details>\n",
    "  <summary>Lösung:</summary>\n",
    "\n",
    "  <pre><code class=\"language-python\">\n",
    "# Passwort vom Benutzer eingeben\n",
    "passwort = input(\"Bitte geben Sie ein Passwort ein: \")\n",
    "\n",
    "# Überprüfung der Kriterien\n",
    "minimale_laenge = len(passwort) >= 9\n",
    "hat_grossbuchstaben = False\n",
    "hat_kleinbuchstaben = False\n",
    "hat_zahl = False\n",
    "\n",
    "# Schleife, um jedes Zeichen zu überprüfen\n",
    "for char in passwort:\n",
    "    if char.isupper():\n",
    "        hat_grossbuchstaben = True\n",
    "    elif char.islower():\n",
    "        hat_kleinbuchstaben = True\n",
    "    elif char.isdigit():\n",
    "        hat_zahl = True\n",
    "\n",
    "# Überprüfung, ob alle Kriterien erfüllt sind\n",
    "if minimale_laenge and hat_grossbuchstaben and hat_kleinbuchstaben and hat_zahl:\n",
    "    print(\"Das Passwort wurde akzeptiert.\")\n",
    "else:\n",
    "    print(\"Das Passwort entspricht nicht den Sicherheitskriterien.\")\n",
    "    if not minimale_laenge:\n",
    "        print(\"- Das Passwort muss mindestens 9 Zeichen lang sein.\")\n",
    "    if not hat_grossbuchstaben:\n",
    "        print(\"- Das Passwort muss mindestens einen Großbuchstaben enthalten.\")\n",
    "    if not hat_kleinbuchstaben:\n",
    "        print(\"- Das Passwort muss mindestens einen Kleinbuchstaben enthalten.\")\n",
    "    if not hat_zahl:\n",
    "        print(\"- Das Passwort muss mindestens eine Zahl enthalten.\")\n",
    "  </code></pre>\n",
    "</details>"
   ]
  }
 ],
 "metadata": {
  "kernelspec": {
   "display_name": "Python 3 (ipykernel)",
   "language": "python",
   "name": "python3"
  },
  "language_info": {
   "codemirror_mode": {
    "name": "ipython",
    "version": 3
   },
   "file_extension": ".py",
   "mimetype": "text/x-python",
   "name": "python",
   "nbconvert_exporter": "python",
   "pygments_lexer": "ipython3",
   "version": "3.9.7"
  }
 },
 "nbformat": 4,
 "nbformat_minor": 5
}
