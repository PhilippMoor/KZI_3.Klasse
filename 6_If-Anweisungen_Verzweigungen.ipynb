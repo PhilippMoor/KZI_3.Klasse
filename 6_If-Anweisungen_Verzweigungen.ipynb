{
 "cells": [
  {
   "cell_type": "markdown",
   "id": "95e77239",
   "metadata": {},
   "source": [
    "If-Anweisungen in Python:\n",
    "\n",
    "If-Anweisungen sind ein grundlegendes Konzept in der Programmierung, das es ermöglicht, Entscheidungen im Code zu treffen und verschiedene Anweisungen abhängig von Bedingungen auszuführen. In Python verwenden wir in der Regel if, elif (else if) und else, um bedingte Anweisungen zu implementieren."
   ]
  },
  {
   "cell_type": "markdown",
   "id": "c18e327c",
   "metadata": {},
   "source": [
    "# Einfache If-Anweisung"
   ]
  },
  {
   "cell_type": "markdown",
   "id": "24d867fd",
   "metadata": {},
   "source": [
    "Eine einfache if-Anweisung ermöglicht die Ausführung einer Anweisung, wenn eine Bedingung wahr ist. Wenn die Bedingung nicht erfüllt ist, wird die Anweisung übersprungen.\n",
    "\n",
    "Hier ein Beispiel dazu:"
   ]
  },
  {
   "cell_type": "code",
   "execution_count": null,
   "id": "366687b6",
   "metadata": {},
   "outputs": [],
   "source": [
    "passwort = \"123\"\n",
    "eingabe = input(\"Passwort: \")\n",
    "if eingabe == passwort:\n",
    "    print(\"Zugang gewährt!\")"
   ]
  },
  {
   "cell_type": "markdown",
   "id": "f3c220ec",
   "metadata": {},
   "source": [
    "In diesem Beispiel wird jedoch nichts ausgeführt wenn die Bedingung (eingabe == passwort) Falsch ist.\n",
    "Sollten wir im Falle, dass die Bedingung Falsch ist ebenfalls eine Rückgabe haben wollen, können wir den Befehl \"else\" verwenden."
   ]
  },
  {
   "cell_type": "code",
   "execution_count": null,
   "id": "6447b288",
   "metadata": {},
   "outputs": [],
   "source": [
    "passwort = \"123\"\n",
    "eingabe = input(\"Passwort: \")\n",
    "if eingabe == passwort:\n",
    "    print(\"Zugang gewährt!\")\n",
    "else:\n",
    "    print(\"Falsches Passwort! Kein Zugang!\")"
   ]
  },
  {
   "cell_type": "markdown",
   "id": "bcfed90f",
   "metadata": {},
   "source": [
    "Achten Sie darauf, dass ein else gleich eingerückt sein muss, wie die dazugehörige if-Anweisung. Sollte dies nicht der Fall sein, wird Ihnen Python eine Fehlermeldung (unexpected indent -> unerwartete Einrückung) ausgeben:"
   ]
  },
  {
   "cell_type": "code",
   "execution_count": null,
   "id": "1ea91cf7",
   "metadata": {},
   "outputs": [],
   "source": [
    "passwort = \"123\"\n",
    "eingabe = input(\"Passwort: \")\n",
    "if eingabe == passwort:\n",
    "    print(\"Zugang gewährt!\")\n",
    "        else:\n",
    "            print(\"Falsches Passwort! Kein Zugang!\")"
   ]
  },
  {
   "cell_type": "markdown",
   "id": "bbec753a",
   "metadata": {},
   "source": [
    "# Verschachtelte if-Anweisungen"
   ]
  },
  {
   "cell_type": "markdown",
   "id": "3fc82135",
   "metadata": {},
   "source": [
    "Verschachtelte if-Anweisungen erlauben die Überprüfung von Bedingungen in Abhängigkeit von anderen Bedingungen. Dies ermöglicht komplexere Entscheidungsstrukturen."
   ]
  },
  {
   "cell_type": "markdown",
   "id": "71c2892b",
   "metadata": {},
   "source": [
    "Im folgenden Beispiel möchten wir prüfen, ob sowohl ein Passwort korrekt eingegeben wird, und das Alter des Benutzers/der Benutzering grösser oder gleich 18 Jahre ist. Nur wenn beide Bedingungen erfüllt sind, soll Zugriff gewährt werden."
   ]
  },
  {
   "cell_type": "code",
   "execution_count": null,
   "id": "44cb148e",
   "metadata": {},
   "outputs": [],
   "source": [
    "passwort = \"123\"\n",
    "eingabe = input(\"Passwort: \")\n",
    "alter = int(input(\"Alter: \")) # Achtung! Alter ist eine Ganzzahlige Variabel\n",
    "if eingabe == passwort:\n",
    "    if alter >= 18:\n",
    "        print(\"Zugang gewährt!\")\n",
    "    else:\n",
    "        print(\"Zu Jung! Kein Zugang!\")"
   ]
  },
  {
   "cell_type": "markdown",
   "id": "4cd8236b",
   "metadata": {},
   "source": [
    "Beim obigen Beispiel wird jedoch keine Rückmeldung gegeben, sollte das Passwort bereits Falsch sein. Wie können wir in diesem Falle ebenfalls eine Rückmeldung (\"Passwort Falsch!\")geben? Versuchen Sie dies im untenstehenden Code zu ergänzen:"
   ]
  },
  {
   "cell_type": "code",
   "execution_count": null,
   "id": "54590cad",
   "metadata": {},
   "outputs": [],
   "source": [
    "passwort = \"123\"\n",
    "eingabe = input(\"Passwort: \")\n",
    "alter = int(input(\"Alter: \")) # Achtung! Alter ist eine Ganzzahlige Variabel\n",
    "if eingabe == passwort:\n",
    "    if alter >= 18:\n",
    "        print(\"Zugang gewährt!\")\n",
    "    else:\n",
    "        print(\"Zu Jung! Kein Zugang!\")"
   ]
  },
  {
   "cell_type": "markdown",
   "id": "ffc6557a",
   "metadata": {},
   "source": [
    "Die Abfrage beider Bedingungen kann auch in einer if-Anweisung erledigt werden. Versuchen Sie die zwei Logischen Aussagen mittels \"and\" zu verknüpfen und somit den Code ein wenig kompakter zu schreiben."
   ]
  },
  {
   "cell_type": "code",
   "execution_count": null,
   "id": "99ec81b4",
   "metadata": {},
   "outputs": [],
   "source": []
  },
  {
   "cell_type": "markdown",
   "id": "64cbae11",
   "metadata": {},
   "source": [
    "# if, elif und else:"
   ]
  },
  {
   "cell_type": "markdown",
   "id": "f8e55d98",
   "metadata": {},
   "source": [
    "Die elif (else if) -Anweisung wird verwendet, um alternative Bedingungen zu überprüfen, wenn die vorherige if-Bedingung falsch ist. Dies ermöglicht die Überprüfung mehrerer Bedingungen nacheinander.\n",
    "Betrachten wir folgendes Beispiel:\n",
    "\n",
    "In einem Test können 100 Punkte erreicht werden. Statt klassischer Noten wird die Punktzahl einer Kategorie zugeordnet:\n",
    "\n",
    "A: 0 - 24 Punkte\n",
    "\n",
    "B: 25 - 49 Punkte\n",
    "\n",
    "C: 50 - 74 Punkte\n",
    "\n",
    "D: 75 - 100 Punkte\n",
    "\n",
    "Diese Kategorie soll nun mittels einem Python-Programm ermittelt werden."
   ]
  },
  {
   "cell_type": "code",
   "execution_count": null,
   "id": "33a01190",
   "metadata": {},
   "outputs": [],
   "source": [
    "p = int(input(\"Punkte: \"))\n",
    "if p > 100:\n",
    "    print(\"Falsche Punktzahl\")\n",
    "elif p >= 75:\n",
    "    print(\"D\")\n",
    "elif p >= 50:\n",
    "    print(\"C\")\n",
    "elif p >= 25:\n",
    "    print(\"B\")\n",
    "elif p >= 0:\n",
    "    print(\"A\")\n",
    "else:\n",
    "    print(\"Falsche Punktzahl\")"
   ]
  },
  {
   "cell_type": "markdown",
   "id": "b2cc323c",
   "metadata": {},
   "source": [
    "Die \"elif\" abfragen werden erst durchgeführt, sollte die obenstehende if-Anweisung Falsch sein."
   ]
  },
  {
   "cell_type": "markdown",
   "id": "68196d78",
   "metadata": {},
   "source": [
    "# Aufgaben:"
   ]
  },
  {
   "cell_type": "markdown",
   "id": "d9741eaf",
   "metadata": {},
   "source": [
    "## Aufgabe 1:"
   ]
  },
  {
   "cell_type": "markdown",
   "id": "54021375",
   "metadata": {},
   "source": [
    "Weshalb können wir den Python-Code aus dem \"if, elif und else\"-Beispiel nicht folgendermassen schreiben?"
   ]
  },
  {
   "cell_type": "code",
   "execution_count": null,
   "id": "b715ba18",
   "metadata": {},
   "outputs": [],
   "source": [
    "p = int(input(\"Punkte: \"))\n",
    "if p > 100:\n",
    "    print(\"Falsche Punktzahl\")\n",
    "if p >= 75:\n",
    "    print(\"D\")\n",
    "if p >= 50:\n",
    "    print(\"C\")\n",
    "if p >= 25:\n",
    "    print(\"B\")\n",
    "if p >= 0:\n",
    "    print(\"A\")\n",
    "else:\n",
    "    print(\"Falsche Punktzahl\")"
   ]
  },
  {
   "cell_type": "markdown",
   "id": "60f206a8",
   "metadata": {},
   "source": [
    "Versuche in eigenen Worten zu erklären, was schief läuft beim Testen:"
   ]
  },
  {
   "cell_type": "markdown",
   "id": "6fcaef91",
   "metadata": {},
   "source": []
  },
  {
   "cell_type": "markdown",
   "id": "5a2a6736",
   "metadata": {},
   "source": [
    "## Aufgabe 2:"
   ]
  },
  {
   "cell_type": "markdown",
   "id": "13c2e2a4",
   "metadata": {},
   "source": [
    "Weshalb können wir den Python-Code aus dem \"if, elif und else\"-Beispiel nicht folgendermassen schreiben?"
   ]
  },
  {
   "cell_type": "code",
   "execution_count": null,
   "id": "dd8c9ed6",
   "metadata": {},
   "outputs": [],
   "source": [
    "p = int(input(\"Punkte: \"))\n",
    "if p < 0:\n",
    "    print(\"Falsche Punktzahl\")\n",
    "elif p >= 0:\n",
    "    print(\"A\")\n",
    "elif p >= 25:\n",
    "    print(\"B\")\n",
    "elif p >= 50:\n",
    "    print(\"C\")\n",
    "elif p >= 75:\n",
    "    print(\"D\")\n",
    "else:\n",
    "    print(\"Falsche Punktzahl\")"
   ]
  },
  {
   "cell_type": "markdown",
   "id": "aba622cb",
   "metadata": {},
   "source": [
    "Versuche in eigenen Worten zu erklären, was schief läuft beim Testen:"
   ]
  },
  {
   "cell_type": "markdown",
   "id": "d3199262",
   "metadata": {},
   "source": [
    "## Aufgabe 3:"
   ]
  },
  {
   "cell_type": "markdown",
   "id": "26195dd5",
   "metadata": {},
   "source": [
    "Implementieren Sie eine Python-Funktion, die zwei Zahlen vergleicht und ausgibt, welche der beiden Zahlen größer ist. Falls beide Zahlen gleich sind, geben Sie aus, dass sie gleich sind."
   ]
  },
  {
   "cell_type": "code",
   "execution_count": null,
   "id": "1dc8df7d",
   "metadata": {},
   "outputs": [],
   "source": []
  },
  {
   "cell_type": "markdown",
   "id": "89fc0598",
   "metadata": {},
   "source": [
    "## Aufgabe 4:"
   ]
  },
  {
   "cell_type": "markdown",
   "id": "be5863ee",
   "metadata": {},
   "source": [
    "Schreiben Sie Python-Code, der den Endpreis eines Produkts berechnet. Wenn der Preis des Produkts größer oder gleich 100 ist, wird ein Rabatt von 10% gewährt. Berechnen Sie den Endpreis und geben Sie ihn aus."
   ]
  },
  {
   "cell_type": "code",
   "execution_count": null,
   "id": "0f3941aa",
   "metadata": {},
   "outputs": [],
   "source": []
  },
  {
   "cell_type": "markdown",
   "id": "36fe53ee",
   "metadata": {},
   "source": [
    "## Aufgabe 5:"
   ]
  },
  {
   "cell_type": "markdown",
   "id": "a238ef24",
   "metadata": {},
   "source": [
    "Schreiben Sie ein Programm, das das Alter eines Benutzers abfragt. Basierend auf dem Alter soll das Programm die Person in eine der folgenden Klassen einteilen:\n",
    "\n",
    "Kind (0-9)\n",
    "\n",
    "Jugendlicher(10-18)\n",
    "\n",
    "Erwachsener(18-59)\n",
    "\n",
    "Senior(60+)"
   ]
  },
  {
   "cell_type": "code",
   "execution_count": null,
   "id": "5dc96a84",
   "metadata": {},
   "outputs": [],
   "source": []
  },
  {
   "cell_type": "markdown",
   "id": "8c17932a",
   "metadata": {},
   "source": [
    "## Schwierige Zusatzaufgabe für schlaue Füchse/Füchsinnen:"
   ]
  },
  {
   "cell_type": "markdown",
   "id": "3f59acfe",
   "metadata": {},
   "source": [
    "Schreiben Sie ein Programm, das die Benutzerregistrierung überwacht. Das Programm sollte sicherstellen, dass das vom Benutzer eingegebene Passwort bestimmten Sicherheitskriterien entspricht, wie z.B. eine Mindestlänge, Groß- und Kleinbuchstaben und Zahlen. Das Programm sollte dem Benutzer mitteilen, ob das Passwort akzeptiert wurde oder nicht.\n",
    "\n",
    "Mindestlänge: 9 Zeichen\n",
    "Je mindestens ein Gross und Kleinbuchstaben vorhanden\n",
    "Mindestens eine Zahl vorhanden\n",
    "\n",
    "(nutze die \"len(string)\"- Funktion um die länge zu messen."
   ]
  },
  {
   "cell_type": "code",
   "execution_count": null,
   "id": "3747abab",
   "metadata": {},
   "outputs": [],
   "source": []
  }
 ],
 "metadata": {
  "kernelspec": {
   "display_name": "Python 3 (ipykernel)",
   "language": "python",
   "name": "python3"
  },
  "language_info": {
   "codemirror_mode": {
    "name": "ipython",
    "version": 3
   },
   "file_extension": ".py",
   "mimetype": "text/x-python",
   "name": "python",
   "nbconvert_exporter": "python",
   "pygments_lexer": "ipython3",
   "version": "3.9.7"
  }
 },
 "nbformat": 4,
 "nbformat_minor": 5
}
