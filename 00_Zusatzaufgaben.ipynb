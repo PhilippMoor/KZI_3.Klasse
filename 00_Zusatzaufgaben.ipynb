{
 "cells": [
  {
   "cell_type": "markdown",
   "id": "1e8ed862",
   "metadata": {},
   "source": [
    "# Zusatzaufgaben"
   ]
  },
  {
   "cell_type": "markdown",
   "id": "9c8b4ced-d5df-4cdf-af49-8a2253866964",
   "metadata": {},
   "source": [
    "## Aufgabe 1"
   ]
  },
  {
   "cell_type": "markdown",
   "id": "fdda569c-a525-43b9-83f0-c73f5dae9c94",
   "metadata": {},
   "source": [
    "Schreibe ein Programm, das Temperaturen von Celsius nach Kelvin und Fahrenheit umwandelt."
   ]
  },
  {
   "cell_type": "code",
   "execution_count": null,
   "id": "27b25a48-aeb9-417f-97df-cbeba4f07f05",
   "metadata": {},
   "outputs": [],
   "source": []
  },
  {
   "cell_type": "markdown",
   "id": "4a9aff2f-08ff-4896-acc2-ce56363680ea",
   "metadata": {},
   "source": [
    "## Aufgabe 2"
   ]
  },
  {
   "cell_type": "markdown",
   "id": "21b6232d-333e-4fd7-98a2-ecdb7275ed50",
   "metadata": {},
   "source": [
    "Der Steueramtchef von Flächenland stellt dich an, um ein einfaches Programm in Python zu schreiben. Dieses Programm soll den Steuersatz jedes Steuerzahlers berechnen. Die Eingabeparameter sind:\n",
    "\n",
    "Vorname und Nachname des Steuerzahlers\n",
    "\n",
    "Einkommen (in Dublonen, die Währung von Flächenland)\n",
    "\n",
    "Die Ausgabe soll von folgender Form sein:\n",
    "\n",
    "Der Steuerzahler Vorname Nachname muss für das laufende Jahr X Dublonen dem Steueramt bezahlen.\n",
    "\n",
    "Der Steuersatz wird gemäss folgender Tabelle bestimmt:\n",
    "\n",
    "Der Steuersatz wird gemäss folgender Tabelle bestimmt:\n",
    "\n",
    "| Einkommen \\(E\\)            | Steuersatz |\n",
    "|-----------------------------|------------|\n",
    "| \\(E \\leq 10'000\\)           | 40%        |\n",
    "| \\(10'000 < E \\leq 30'000\\)  | 55%        |\n",
    "| \\(30'000 < E \\leq 70'000\\)  | 75%        |\n",
    "| \\(E > 70'000\\)              | 82%        |\n",
    "\n",
    "\n",
    "## Zusatzaufgabe\n",
    "Berücksichtige in deinem Programm neben dem Einkommen auch das Vermögen.\n",
    "\n",
    "| Vermögen \\(H\\)               | Steuersatz |\n",
    "|-------------------------------|------------|\n",
    "| \\(H \\leq 100'000\\)            | 5%         |\n",
    "| \\(100'000 < H \\leq 500'000\\)  | 8%         |\n",
    "| \\(500'000 < H \\leq 1'000'000\\)| 13%        |\n",
    "| \\(H > 1'000'000\\)             | 21%        |\n",
    "\n",
    "\n",
    "### Beispielrechnung\n",
    "Hat zum Beispiel ein Steuerzahler **25’000 Dublonen Einkommen** und **600’000 Dublonen Vermögen**,  \n",
    "so muss er:\n",
    "\n",
    "\\[\n",
    "25'000 \\cdot \\frac{55}{100} + 600'000 \\cdot \\frac{13}{100} = 91'750\n",
    "\\]\n",
    "\n",
    "Dublonen dem Steueramt bezahlen."
   ]
  },
  {
   "cell_type": "code",
   "execution_count": null,
   "id": "35e414c1-4e03-4fc4-9af5-f3061813bd4d",
   "metadata": {},
   "outputs": [],
   "source": []
  },
  {
   "cell_type": "markdown",
   "id": "ad396842-9098-4733-8aee-c65669a42138",
   "metadata": {},
   "source": [
    "## Aufgabe 3"
   ]
  },
  {
   "cell_type": "markdown",
   "id": "c120267d-6d25-49d7-b42f-d7f38ee7ffec",
   "metadata": {},
   "source": [
    "# Aufgabe: Anzahl Schritte\n",
    "\n",
    "Sei \\(n \\in \\mathbb{N}\\). Es gelten folgende Regeln:\n",
    "\n",
    "- Falls **3 teilt n**, dann soll \\(n\\) um 4 erhöht werden.  \n",
    "- Falls **3 nicht teilt n** aber **4 teilt n**, dann soll \\(n\\) halbiert werden.  \n",
    "- Falls **3 nicht teilt n** und **4 nicht teilt n**, dann soll \\(n\\) um 1 verkleinert werden.  \n",
    "\n",
    "Diese Regeln sollen nun sukzessive angewendet werden bis \\(n = 0\\).  \n",
    "Zum Beispiel hat man für \\(n = 7\\):\n",
    "\n",
    "7 - 6 - 10 - 9 - 13 - 12 - 16 - 8 - 4 - 2 - 1 - 0\n",
    "\n",
    "\n",
    "In diesem Beispiel braucht man **11 Schritte**, um die 0 zu erreichen.\n",
    "\n",
    "Schreibe ein Programm, welches diese Folge anzeigt.\n"
   ]
  },
  {
   "cell_type": "code",
   "execution_count": null,
   "id": "370c5b14-f56c-4d4a-ab62-9cd5c0c35042",
   "metadata": {},
   "outputs": [],
   "source": []
  }
 ],
 "metadata": {
  "kernelspec": {
   "display_name": "Python 3 (ipykernel)",
   "language": "python",
   "name": "python3"
  },
  "language_info": {
   "codemirror_mode": {
    "name": "ipython",
    "version": 3
   },
   "file_extension": ".py",
   "mimetype": "text/x-python",
   "name": "python",
   "nbconvert_exporter": "python",
   "pygments_lexer": "ipython3",
   "version": "3.12.6"
  }
 },
 "nbformat": 4,
 "nbformat_minor": 5
}
