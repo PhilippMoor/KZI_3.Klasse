{
 "cells": [
  {
   "cell_type": "markdown",
   "id": "455b9fe6",
   "metadata": {},
   "source": [
    "# Variablen"
   ]
  },
  {
   "cell_type": "markdown",
   "id": "21a04474",
   "metadata": {},
   "source": [
    "Variablen sind \"Speicherorte\" für Daten in einem Programm. Sie sind eine Möglichkeit, Informationen Namen zu geben, um sie später zu erreichen.\n",
    "\n",
    "Jede Variable hat einen Namen; ein Beispiel für einen Variablennamen ist meineGluecksZahl. Um Informationen in einer Variable zu speichern, nutzt man das Gleich-Zeichen in folgendem Kontext:\n",
    "\n",
    "der Variablenname = der zu speichernde Wert"
   ]
  },
  {
   "cell_type": "code",
   "execution_count": 1,
   "id": "50764271",
   "metadata": {},
   "outputs": [],
   "source": [
    "meinjahrgang = 1995"
   ]
  },
  {
   "cell_type": "markdown",
   "id": "41b7fa04",
   "metadata": {},
   "source": [
    "Die obenstehende Python-Zeile speichert meinen Jahrgang in der Variable \"meinjahrgang\".\n",
    "Danach wird Python jedesmal, wenn du den Variablennamen meinjahrgang schreibst, den gespeicherten Wert nutzen."
   ]
  },
  {
   "cell_type": "markdown",
   "id": "7b6c707f",
   "metadata": {},
   "source": [
    "Ändern Sie die Variable \"meinjahrgang\" zu ihrem Jahrgang und führen Sie \"Run\" auf der Zeile aus. (Somit speichern wir den Wert neu)."
   ]
  },
  {
   "cell_type": "markdown",
   "id": "87027aa0",
   "metadata": {},
   "source": [
    "Hier ist ein kleines Beispiel, in dem Variablen genutzt werden. Es hat mehr als eine Code-Zeile: Python wird zunächst die erste Zeile ausführen, dann die zweite, und so weiter, bis die letzte Zeile erreicht wurde. Klicken Sie den Run-Button, um zu sehen, was es macht."
   ]
  },
  {
   "cell_type": "code",
   "execution_count": 2,
   "id": "12ae81fd",
   "metadata": {},
   "outputs": [
    {
     "name": "stdout",
     "output_type": "stream",
     "text": [
      "1995\n",
      "1996\n",
      "1995\n"
     ]
    }
   ],
   "source": [
    "print(meinjahrgang)\n",
    "print(meinjahrgang + 1)\n",
    "print(meinjahrgang)"
   ]
  },
  {
   "cell_type": "markdown",
   "id": "d347c1ca",
   "metadata": {},
   "source": [
    "Wir sehen, dass der Wert der Variable nicht geändert wurde (trotz dem + 1 rechnen). Dies liegt daran, dass wir lediglich einen print-Befehl ausgeführt haben und nicht die Variabel geändert haben.\n",
    "\n",
    "Um eine Variable tatsächlich zu ändern müssen wir sie überschreiben:"
   ]
  },
  {
   "cell_type": "code",
   "execution_count": 3,
   "id": "3ee8d264",
   "metadata": {},
   "outputs": [
    {
     "name": "stdout",
     "output_type": "stream",
     "text": [
      "1995\n",
      "1996\n"
     ]
    }
   ],
   "source": [
    "print(meinjahrgang)\n",
    "meinjahrgang = meinjahrgang + 1\n",
    "print(meinjahrgang)"
   ]
  },
  {
   "cell_type": "markdown",
   "id": "8b0bc9bc",
   "metadata": {},
   "source": [
    "Hurra wir haben soeben unseren Jahrgang um ein Jahr geändert und sind ein Jahr jünger geworden."
   ]
  },
  {
   "cell_type": "markdown",
   "id": "90e26d12",
   "metadata": {},
   "source": [
    "Hier haben wir auch den Plus-Operator (+) eingeführt, der zwei Zahlen addiert. Genauso gibt es auch Operatoren für Subtraktion (-), Multiplikation (*) und Division (/). Wir werden uns diese noch genauer anschauen."
   ]
  },
  {
   "cell_type": "markdown",
   "id": "a4563365",
   "metadata": {},
   "source": [
    "### Eingabefeld"
   ]
  },
  {
   "cell_type": "markdown",
   "id": "518bb652",
   "metadata": {},
   "source": [
    "Wir als Nutzer können Python auch via Eingabeld Variablen Werte zuweisen.\n",
    "\n",
    "So können wir zum Beispiel den Nutzer Fragen wie alt Er/Sie ist, und diesen Wert in einer Variable \"alter\" Speichern:"
   ]
  },
  {
   "cell_type": "code",
   "execution_count": 4,
   "id": "c4e12c51",
   "metadata": {},
   "outputs": [
    {
     "name": "stdin",
     "output_type": "stream",
     "text": [
      "Wie alt bist du? 15\n"
     ]
    },
    {
     "name": "stdout",
     "output_type": "stream",
     "text": [
      "15\n"
     ]
    }
   ],
   "source": [
    "alter = input(\"Wie alt bist du?\")\n",
    "print(alter)"
   ]
  },
  {
   "cell_type": "markdown",
   "id": "a5e02d7c",
   "metadata": {},
   "source": [
    "# Aufgaben"
   ]
  },
  {
   "cell_type": "markdown",
   "id": "3eb16e50",
   "metadata": {},
   "source": [
    "### Aufgabe 1:"
   ]
  },
  {
   "cell_type": "markdown",
   "id": "b30b5baa",
   "metadata": {},
   "source": [
    "Berechnen Sie von Hand, was der Wert der Variablen am Ende des folgenden Codes sein wird:\n",
    "    \n",
    "    first = 2\n",
    "    second = 3\n",
    "    third = first * second\n",
    "    second = third - first\n",
    "    first = first + second + third\n",
    "    third = second * first\n",
    "\n",
    "(Schreiben Sie sich Zeile für Zeile auf, wie der Wert der Variablen nach dem Ausführen der Zeile sein wird)\n",
    "\n",
    "Nutzen Sie anschliessend das folgende Programmier-Feld, um zu überprüfen ob ihre Berechnungen stimmen:"
   ]
  },
  {
   "cell_type": "code",
   "execution_count": 6,
   "id": "d07a6497",
   "metadata": {},
   "outputs": [
    {
     "name": "stdout",
     "output_type": "stream",
     "text": [
      "12 4 48\n"
     ]
    }
   ],
   "source": [
    "first = 2\n",
    "second = 3\n",
    "third = first * second\n",
    "second = third - first\n",
    "first = first + second + third\n",
    "third = second * first\n",
    "\n",
    "print(first,second,third)"
   ]
  },
  {
   "cell_type": "markdown",
   "id": "7203d60b",
   "metadata": {},
   "source": [
    "### Aufgabe 2:"
   ]
  },
  {
   "cell_type": "markdown",
   "id": "bd556c55",
   "metadata": {},
   "source": [
    "Wieso gibt folgdender Code eine Fehlermeldung aus?"
   ]
  },
  {
   "cell_type": "code",
   "execution_count": 7,
   "id": "f80e205c",
   "metadata": {},
   "outputs": [
    {
     "ename": "NameError",
     "evalue": "name 'lösung' is not defined",
     "output_type": "error",
     "traceback": [
      "\u001b[0;31m---------------------------------------------------------------------------\u001b[0m",
      "\u001b[0;31mNameError\u001b[0m                                 Traceback (most recent call last)",
      "Cell \u001b[0;32mIn[7], line 1\u001b[0m\n\u001b[0;32m----> 1\u001b[0m \u001b[38;5;28mprint\u001b[39m(\u001b[43mlösung\u001b[49m)\n\u001b[1;32m      2\u001b[0m lösung \u001b[38;5;241m=\u001b[39m \u001b[38;5;241m3\u001b[39m\u001b[38;5;241m-\u001b[39m\u001b[38;5;241m2\u001b[39m\n",
      "\u001b[0;31mNameError\u001b[0m: name 'lösung' is not defined"
     ]
    }
   ],
   "source": [
    "print(lösung)\n",
    "lösung = 3-2"
   ]
  },
  {
   "cell_type": "markdown",
   "id": "a378e577",
   "metadata": {},
   "source": [
    "Dieser Code gibt einen Fehler aus, da die Variable \"lösung\" bereits ausgegeben werden soll, bevor sie definiert wurde.\n",
    "--> Reihenfolge der Befehle beachten."
   ]
  },
  {
   "cell_type": "markdown",
   "id": "411ae025",
   "metadata": {},
   "source": [
    "### Aufgabe 3:"
   ]
  },
  {
   "cell_type": "code",
   "execution_count": null,
   "id": "ab63705c",
   "metadata": {},
   "outputs": [],
   "source": [
    "Wieso gibt folgdender Code eine Fehlermeldung aus?"
   ]
  },
  {
   "cell_type": "code",
   "execution_count": 8,
   "id": "652a606e",
   "metadata": {},
   "outputs": [
    {
     "ename": "SyntaxError",
     "evalue": "cannot assign to literal (2980239961.py, line 3)",
     "output_type": "error",
     "traceback": [
      "\u001b[0;36m  Cell \u001b[0;32mIn[8], line 3\u001b[0;36m\u001b[0m\n\u001b[0;31m    4 = x\u001b[0m\n\u001b[0m    ^\u001b[0m\n\u001b[0;31mSyntaxError\u001b[0m\u001b[0;31m:\u001b[0m cannot assign to literal\n"
     ]
    }
   ],
   "source": [
    "x = 4\n",
    "print(x)\n",
    "4 = x\n",
    "print(x)"
   ]
  },
  {
   "cell_type": "markdown",
   "id": "ae449b6f",
   "metadata": {},
   "source": [
    "4 = x ist keine valide Zuteilung. Wir müssen x = 4 schreiben."
   ]
  },
  {
   "cell_type": "markdown",
   "id": "d26918ee",
   "metadata": {},
   "source": [
    "### Aufgabe 4:"
   ]
  },
  {
   "cell_type": "code",
   "execution_count": null,
   "id": "9fbbd20e",
   "metadata": {},
   "outputs": [],
   "source": [
    "Berechnen Sie von Hand, was der Wert der Variablen am Ende des folgenden Codes sein wird:\n",
    "    \n",
    "    x = 10\n",
    "    x = x + x\n",
    "    x = x - 5\n",
    "    x = x * 2\n",
    "    x = x"
   ]
  },
  {
   "cell_type": "code",
   "execution_count": 9,
   "id": "c7e907c2-8348-4c4b-a9da-a952744f1124",
   "metadata": {},
   "outputs": [
    {
     "name": "stdout",
     "output_type": "stream",
     "text": [
      "30\n"
     ]
    }
   ],
   "source": [
    "x = 10\n",
    "x = x + x\n",
    "x = x - 5\n",
    "x = x * 2\n",
    "x = x\n",
    "\n",
    "print(x)"
   ]
  },
  {
   "cell_type": "markdown",
   "id": "dd379046",
   "metadata": {},
   "source": [
    "### Aufgabe 5:"
   ]
  },
  {
   "cell_type": "markdown",
   "id": "da1226ab",
   "metadata": {},
   "source": [
    "Schreiben Sie ein Programm, das Köpfe, Schultern, Knie und Zehen auf einer Party ausgibt.\n",
    "\n",
    "Eine Variable personen ist schon bekannt, und die Anzahl der Personen auf der Party ist darin bereits gespeichert.\n",
    "Der Code muss 4 Variablen definieren: \n",
    "    koepfe (Anzahl der Köpfe)\n",
    "    schultern (Anzahl der Schultern)\n",
    "    knie (Anzahl der Knie)\n",
    "    zehen (Anzahl der Zehen)\n",
    "\n",
    "Geben Sie die Werte der Variablen mittels print() aus.\n",
    "\n",
    "--> Testen Sie ihr Programm mit dem Wert personen = 10"
   ]
  },
  {
   "cell_type": "code",
   "execution_count": 11,
   "id": "6533029e-9b3c-427e-ba83-01577437797b",
   "metadata": {},
   "outputs": [
    {
     "name": "stdout",
     "output_type": "stream",
     "text": [
      "10 20 20 100\n"
     ]
    }
   ],
   "source": [
    "personen = 10\n",
    "koepfe = personen\n",
    "schultern = personen*2\n",
    "knie = personen*2\n",
    "zehen = personen*10\n",
    "print(personen,schultern,knie,zehen)"
   ]
  },
  {
   "cell_type": "markdown",
   "id": "862b8985",
   "metadata": {},
   "source": [
    "### Aufgabe 6:"
   ]
  },
  {
   "cell_type": "markdown",
   "id": "b50f4ce6",
   "metadata": {},
   "source": [
    "Schreiben Sie ein Programm, das die Werte zweier Variablen vertauscht.\n",
    "Es sind zwei Variablen x und y vordefiniert, die numerische Werte enthalten.\n",
    "Nach der Ausführung des Programms muss der alte Wert von x in der Variable y zu finden sein und der alte Wert von y in der Variable x."
   ]
  },
  {
   "cell_type": "code",
   "execution_count": 16,
   "id": "9e64e248",
   "metadata": {},
   "outputs": [
    {
     "name": "stdout",
     "output_type": "stream",
     "text": [
      "5 10\n",
      "10 5\n"
     ]
    }
   ],
   "source": [
    "x = 5\n",
    "y = 10\n",
    "print(x,y)\n",
    "z = x\n",
    "x = y\n",
    "y = z\n",
    "print(x,y)"
   ]
  },
  {
   "cell_type": "markdown",
   "id": "9ce0d0b6",
   "metadata": {},
   "source": [
    "### Aufgabe 7:"
   ]
  },
  {
   "cell_type": "markdown",
   "id": "3a230cfc",
   "metadata": {},
   "source": [
    "Schreiben Sie ein Programm, welches den Nutzer nach seinem/ihrem Namen fragt, und anschliessend \"Hallo (name)\" ausgibt."
   ]
  },
  {
   "cell_type": "code",
   "execution_count": 18,
   "id": "e32a0b6a",
   "metadata": {},
   "outputs": [
    {
     "name": "stdin",
     "output_type": "stream",
     "text": [
      "Wie heissen Sie? Markus\n"
     ]
    },
    {
     "name": "stdout",
     "output_type": "stream",
     "text": [
      "hallo Markus\n"
     ]
    }
   ],
   "source": [
    "name = input(\"Wie heissen Sie?\")\n",
    "print(\"hallo\",name)"
   ]
  },
  {
   "cell_type": "markdown",
   "id": "9800fa3e-6aa4-488b-8970-7a5f1408f6ec",
   "metadata": {},
   "source": [
    "### Aufgabe 8:"
   ]
  },
  {
   "cell_type": "markdown",
   "id": "5ec8facb-16ba-4913-9408-892b7f66f579",
   "metadata": {},
   "source": [
    "Schreiben Sie ein Programm, welches Sie nach 4 Zahlen fragt, und ihnen anschliessend die Differenz und die Summe dieser vier Zahlen ausgibt."
   ]
  },
  {
   "cell_type": "code",
   "execution_count": 20,
   "id": "245f72f0-ae48-49be-b83f-1b2edd881f61",
   "metadata": {},
   "outputs": [
    {
     "name": "stdin",
     "output_type": "stream",
     "text": [
      "zahl 1: 1\n",
      "zahl 2: 2\n",
      "zahl 3: 3\n",
      "zahl 4: 4\n"
     ]
    },
    {
     "name": "stdout",
     "output_type": "stream",
     "text": [
      "10\n",
      "-8\n"
     ]
    }
   ],
   "source": [
    "a = int(input(\"zahl 1:\"))\n",
    "b = int(input(\"zahl 2:\"))\n",
    "c = int(input(\"zahl 3:\"))\n",
    "d = int(input(\"zahl 4:\"))\n",
    "print(a+b+c+d)\n",
    "print(a-b-c-d)"
   ]
  }
 ],
 "metadata": {
  "kernelspec": {
   "display_name": "Python 3 (ipykernel)",
   "language": "python",
   "name": "python3"
  },
  "language_info": {
   "codemirror_mode": {
    "name": "ipython",
    "version": 3
   },
   "file_extension": ".py",
   "mimetype": "text/x-python",
   "name": "python",
   "nbconvert_exporter": "python",
   "pygments_lexer": "ipython3",
   "version": "3.9.7"
  }
 },
 "nbformat": 4,
 "nbformat_minor": 5
}
