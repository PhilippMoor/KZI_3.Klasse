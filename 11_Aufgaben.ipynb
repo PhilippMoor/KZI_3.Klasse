{
 "cells": [
  {
   "cell_type": "markdown",
   "id": "af816f28",
   "metadata": {},
   "source": [
    "## Aufgabe 1"
   ]
  },
  {
   "cell_type": "markdown",
   "id": "bbe79153",
   "metadata": {},
   "source": [
    "Schreiben Sie ein Programm, das eine einzelne Eingabezeile von der Form «number1+number2» hat, wo beide Zahlen positive Ganzzahlen sind, und das die Summe von diesen zwei Zahlen ausgibt. So sollte zum Beispiel bei der Eingabe 5+12 folgendes die Ausgabe sein: 17."
   ]
  },
  {
   "cell_type": "code",
   "execution_count": null,
   "id": "8e582532",
   "metadata": {},
   "outputs": [],
   "source": []
  },
  {
   "cell_type": "markdown",
   "id": "e58c3217",
   "metadata": {},
   "source": [
    "## Aufgabe 2"
   ]
  },
  {
   "cell_type": "markdown",
   "id": "c1613240",
   "metadata": {},
   "source": [
    "Schreiben Sie ein Programm, welches zählt wieviele Abstände ein Satz hat. Beispiel bei der Eingabe \"Hier ist es schön und warm\" sollte die Ausgabe \"Es hat 5 Abstände in diesem Satz\" sein."
   ]
  },
  {
   "cell_type": "code",
   "execution_count": null,
   "id": "7b378f88",
   "metadata": {},
   "outputs": [],
   "source": []
  },
  {
   "cell_type": "markdown",
   "id": "55c629d4",
   "metadata": {},
   "source": [
    "## Aufgabe 3"
   ]
  },
  {
   "cell_type": "markdown",
   "id": "182bd832",
   "metadata": {},
   "source": [
    "Erweitern Sie die Aufgabe 2 um zählen zu können, wieviele Male ein Wort in einem Satz vorkommt. Beispiel: Suchwort = \"er\", Satz = \"Die erde ist ein erfüllender planet\" Ausgabe: \"Das Wort \"er\" kommt 3 Mal vor\"."
   ]
  },
  {
   "cell_type": "code",
   "execution_count": null,
   "id": "442d1cbf",
   "metadata": {},
   "outputs": [],
   "source": []
  },
  {
   "cell_type": "markdown",
   "id": "cce2c58a",
   "metadata": {},
   "source": [
    "## Aufgabe 4"
   ]
  },
  {
   "cell_type": "markdown",
   "id": "8bb1fa63",
   "metadata": {},
   "source": [
    "Dieses Programm verwendet zwei Eingabezeilen. Die erste Zeile ist eine „Startzeit“, die von einer 24-Stunden Uhr ausgedrückt wird, wie zum Beispiel 08:30 oder 14:07. Die zweite Zeile ist eine Dauer D in Minuten. Gib aus, welche Zeit es sein wird D Minuten nach der Startzeit. Zum Beispiel, für die Eingabe 12:30,47 wäre die richtige Ausgabe 13:17. \n",
    "Alle Uhrzeiten sollten als Zahlen zwischen 00:00 and 23:59 formatiert werden, aber der Zeitraum kann über Mitternacht hinausgehen. So wäre zum Beispiel bei der Eingabe 23:59 13 wäre die korrekte Ausgabe 00:12."
   ]
  },
  {
   "cell_type": "code",
   "execution_count": null,
   "id": "a48ca8d3",
   "metadata": {},
   "outputs": [],
   "source": []
  }
 ],
 "metadata": {
  "kernelspec": {
   "display_name": "Python 3 (ipykernel)",
   "language": "python",
   "name": "python3"
  },
  "language_info": {
   "codemirror_mode": {
    "name": "ipython",
    "version": 3
   },
   "file_extension": ".py",
   "mimetype": "text/x-python",
   "name": "python",
   "nbconvert_exporter": "python",
   "pygments_lexer": "ipython3",
   "version": "3.9.7"
  }
 },
 "nbformat": 4,
 "nbformat_minor": 5
}
