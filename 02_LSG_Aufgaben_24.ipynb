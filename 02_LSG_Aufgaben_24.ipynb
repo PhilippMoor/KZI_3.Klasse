{
 "cells": [
  {
   "cell_type": "markdown",
   "id": "1e8ed862",
   "metadata": {},
   "source": [
    "# Aufgaben"
   ]
  },
  {
   "cell_type": "markdown",
   "id": "e9c7472a",
   "metadata": {},
   "source": [
    "### Aufgabe 1:"
   ]
  },
  {
   "cell_type": "markdown",
   "id": "59c7abf0",
   "metadata": {},
   "source": [
    "Schreiben Sie ein Programm, welches anhand ihres Jahrgangs ihr Alter berechnet und ausgibt."
   ]
  },
  {
   "cell_type": "code",
   "execution_count": 1,
   "id": "a6b53170",
   "metadata": {},
   "outputs": [
    {
     "name": "stdout",
     "output_type": "stream",
     "text": [
      "28\n"
     ]
    }
   ],
   "source": [
    "jahrgang = 1995\n",
    "alter = 2023 - jahrgang\n",
    "print(alter)"
   ]
  },
  {
   "cell_type": "markdown",
   "id": "d302bb04",
   "metadata": {},
   "source": [
    "### Aufgabe 2:\n"
   ]
  },
  {
   "cell_type": "markdown",
   "id": "f755a1bd",
   "metadata": {},
   "source": [
    "Schreiben Sie ein print-Befehl, welcher die Wortbausteine zusammensetzt, und das Wort \"Rheinschifffahrtspolizeiverordnung\" ausgibt.\n",
    "Verwenden Sie nur die jeweiligen Variablen und verknüpfen Sie sie mit einem + Zeichen."
   ]
  },
  {
   "cell_type": "code",
   "execution_count": 2,
   "id": "6eace10b",
   "metadata": {},
   "outputs": [
    {
     "name": "stdout",
     "output_type": "stream",
     "text": [
      "Rheinschifffahrtspolizeiverordnung\n"
     ]
    }
   ],
   "source": [
    "a = \"zeivero\"\n",
    "b = \"ahr\"\n",
    "c = \"fff\"\n",
    "d = \"R\"\n",
    "e = \"hei\"\n",
    "f = \"rdnung\"\n",
    "g = \"tspoli\"\n",
    "h = \"nschi\"\n",
    "print(d+e+h+c+b+g+a+f)"
   ]
  },
  {
   "cell_type": "markdown",
   "id": "b767adc9",
   "metadata": {},
   "source": [
    "### Aufgabe 3:\n"
   ]
  },
  {
   "cell_type": "markdown",
   "id": "08b86e04",
   "metadata": {},
   "source": [
    "Schreiben Sie ein Programm, welches ihnen den Notenschnitt aus zwei Noten berechnet.\n",
    "In den Variablen \"note_1\" und \"note_2\" werden jeweils Zahlen gespeichert, \n",
    "und in einer Variable \"schnitt\" soll der Durchscnitt gespeichert werden.\n",
    "Geben Sie diesen Durchschnitt zum Schluss aus.\n",
    "\n",
    "(Bsp: note_1 = 4.2 , note_2 = 3.8 --> schnitt = 4.0)"
   ]
  },
  {
   "cell_type": "code",
   "execution_count": 4,
   "id": "6239a031",
   "metadata": {},
   "outputs": [
    {
     "name": "stdout",
     "output_type": "stream",
     "text": [
      "Der Schnitt beträgt 4.0.\n"
     ]
    }
   ],
   "source": [
    "note_1 = 4.2\n",
    "note_2 = 3.8\n",
    "schnitt = (note_1+note_2)/2\n",
    "print(f\"Der Schnitt beträgt {schnitt}.\")\n"
   ]
  },
  {
   "cell_type": "markdown",
   "id": "bf06f67c",
   "metadata": {},
   "source": [
    "### Aufgabe 4:"
   ]
  },
  {
   "cell_type": "markdown",
   "id": "ab0cf56d",
   "metadata": {},
   "source": [
    "Passen Sie das obige Programm an, um den Schnitt aus 4 Noten berechnen zu können."
   ]
  },
  {
   "cell_type": "code",
   "execution_count": 5,
   "id": "c0b861b9",
   "metadata": {},
   "outputs": [
    {
     "name": "stdout",
     "output_type": "stream",
     "text": [
      "Der Schnitt beträgt 3.375.\n"
     ]
    }
   ],
   "source": [
    "note_1 = 4.2\n",
    "note_2 = 3.8\n",
    "note_3 = 3.1\n",
    "note_4 = 2.4\n",
    "schnitt = (note_1+note_2+note_3+note_4)/4\n",
    "print(f\"Der Schnitt beträgt {schnitt}.\")"
   ]
  },
  {
   "cell_type": "markdown",
   "id": "121529a8",
   "metadata": {},
   "source": [
    "### Aufgabe 5:"
   ]
  },
  {
   "cell_type": "markdown",
   "id": "083429b8",
   "metadata": {},
   "source": [
    "Gegeben sind die Variablen a,b,c. Berechnen sie folgendes mithilfe der drei Variablen:\n",
    "\n",
    "    1. d = Durchschnitt von a,b plus den Wert von c.\n",
    "    2. e = Die hälfte von c minus a\n",
    "    3. f = a plus das Doppelte von b\n",
    "    4. g = Das Produkt aus a,b und c\n"
   ]
  },
  {
   "cell_type": "code",
   "execution_count": 7,
   "id": "10ee7845",
   "metadata": {},
   "outputs": [
    {
     "name": "stdout",
     "output_type": "stream",
     "text": [
      "142.5 45.0 30 13000\n"
     ]
    }
   ],
   "source": [
    "a = 20\n",
    "b = 5\n",
    "c = 130\n",
    "d = (a+b)/2+c\n",
    "e = c/2-a\n",
    "f = a + 2*b\n",
    "g = a*b*c\n",
    "print(d,e,f,g)"
   ]
  },
  {
   "cell_type": "markdown",
   "id": "a8859f1e",
   "metadata": {},
   "source": [
    "### Aufgabe 5:"
   ]
  },
  {
   "cell_type": "markdown",
   "id": "cec86745",
   "metadata": {},
   "source": [
    "Ändern Sie die Variabel x so ab, damit das Ergebnis 2023 ergibt:"
   ]
  },
  {
   "cell_type": "code",
   "execution_count": 8,
   "id": "13562437",
   "metadata": {},
   "outputs": [
    {
     "name": "stdout",
     "output_type": "stream",
     "text": [
      "2023\n"
     ]
    }
   ],
   "source": [
    "x = 24\n",
    "result = (1999 + x)%2024\n",
    "print(result)"
   ]
  },
  {
   "cell_type": "markdown",
   "id": "11eac74a",
   "metadata": {},
   "source": [
    "### Aufgabe 6:"
   ]
  },
  {
   "cell_type": "markdown",
   "id": "294387cb",
   "metadata": {},
   "source": [
    "In dieser Aufgabe lernen Sie den f-String kennen.\n",
    "Der Nutzen von f-Strings liegt in ihrer Einfachheit und Lesbarkeit. Sie ermöglichen es, Variablen und Ausdrücke direkt in Zeichenketten einzufügen, ohne komplizierte Konkatenation von Zeichenketten oder die Verwendung von %-Formatierungsoperatoren. Dies macht den Code übersichtlicher und leichter verständlich.\n",
    "\n",
    "F-Strings sind auch sehr flexibel und unterstützen das Einbetten von Ausdrücken, Variablen und sogar die Verwendung von Formatierungsoptionen, um Zahlen oder Datumsangaben in einem bestimmten Format anzuzeigen.\n",
    "\n",
    "Der folgende Code enthält noch einige Fehler. Korrigieren Sie diese, und verändern Sie das Programm so, dass auch die Temperatur in Kelvin angezeigt wird.\n",
    "\n",
    "Wir können Celsius in Fahrenheit umrechnen, indem wir folgende Formel verwenden: \n",
    "\n",
    "Grad Fahrenheit = Grad Celsius mal 1,8 plus 32. Beispiel 37 °C: 37 mal 1,8 ergibt 66,6."
   ]
  },
  {
   "cell_type": "code",
   "execution_count": 3,
   "id": "50088a36",
   "metadata": {},
   "outputs": [
    {
     "ename": "SyntaxError",
     "evalue": "invalid syntax (4003433461.py, line 2)",
     "output_type": "error",
     "traceback": [
      "\u001b[0;36m  Cell \u001b[0;32mIn[3], line 2\u001b[0;36m\u001b[0m\n\u001b[0;31m    temp_f = temp_c * (1.8 + 32)\u001b[0m\n\u001b[0m    ^\u001b[0m\n\u001b[0;31mSyntaxError\u001b[0m\u001b[0;31m:\u001b[0m invalid syntax\n"
     ]
    }
   ],
   "source": [
    "temp_c = float(input(\"Grad: \")\n",
    "temp_f = temp_c * (1.8 + 32)\n",
    "print(f\"Es ist {temp_f} Grad Celsius oder {temp_c} Grad Fahrenheit.\")"
   ]
  },
  {
   "cell_type": "code",
   "execution_count": 10,
   "id": "18cfb75c",
   "metadata": {},
   "outputs": [
    {
     "name": "stdout",
     "output_type": "stream",
     "text": [
      "Grad: 0\n",
      "Es ist 0.0 Grad Celsius oder 32.0 Grad Fahrenheit.\n"
     ]
    }
   ],
   "source": [
    "temp_c = float(input(\"Grad: \"))\n",
    "temp_f = (temp_c * 1.8) + 32\n",
    "print(f\"Es ist {temp_c} Grad Celsius oder {temp_f} Grad Fahrenheit.\")"
   ]
  },
  {
   "cell_type": "markdown",
   "id": "15fc0ec2-e66a-460d-a15d-e8deff84bb2a",
   "metadata": {},
   "source": [
    "### Aufgabe 7:"
   ]
  },
  {
   "cell_type": "markdown",
   "id": "39f761ab-e3a3-4c19-b797-8f2dabe18454",
   "metadata": {},
   "source": [
    "Schreibe ein eigenes Programm, um den Unterschied folgender Befehle herauszufinden:\n",
    "\n",
    "int(x),float(x)"
   ]
  },
  {
   "cell_type": "code",
   "execution_count": 9,
   "id": "0812b5a4-394b-46e9-a172-01ca51666c7b",
   "metadata": {},
   "outputs": [
    {
     "name": "stdout",
     "output_type": "stream",
     "text": [
      "5.8\n",
      "5\n",
      "5.8\n"
     ]
    }
   ],
   "source": [
    "x = 5.8\n",
    "print(x)\n",
    "print(int(x))    # Macht eine Ganzzahl aus x\n",
    "print(float(x))  # Macht eine Fliesskommazahl aus x"
   ]
  },
  {
   "cell_type": "markdown",
   "id": "6d7a2080-7ebf-4399-9a20-1fb922b54ec2",
   "metadata": {},
   "source": [
    "Wir brauchen int(x) ebenfalls, um aus einer Zeichenkette (z.B aus einem Input) eine Zahl zu machen:"
   ]
  },
  {
   "cell_type": "code",
   "execution_count": 10,
   "id": "318fafcd-5155-4be4-af42-e850944cb7de",
   "metadata": {
    "scrolled": true
   },
   "outputs": [
    {
     "name": "stdin",
     "output_type": "stream",
     "text": [
      "Gib mir eine Zahl 3\n"
     ]
    },
    {
     "ename": "TypeError",
     "evalue": "can only concatenate str (not \"int\") to str",
     "output_type": "error",
     "traceback": [
      "\u001b[0;31m---------------------------------------------------------------------------\u001b[0m",
      "\u001b[0;31mTypeError\u001b[0m                                 Traceback (most recent call last)",
      "Cell \u001b[0;32mIn[10], line 2\u001b[0m\n\u001b[1;32m      1\u001b[0m zahl \u001b[38;5;241m=\u001b[39m \u001b[38;5;28minput\u001b[39m(\u001b[38;5;124m\"\u001b[39m\u001b[38;5;124mGib mir eine Zahl\u001b[39m\u001b[38;5;124m\"\u001b[39m)\n\u001b[0;32m----> 2\u001b[0m \u001b[38;5;28mprint\u001b[39m(\u001b[43mzahl\u001b[49m\u001b[38;5;241;43m+\u001b[39;49m\u001b[38;5;241;43m1\u001b[39;49m)\n",
      "\u001b[0;31mTypeError\u001b[0m: can only concatenate str (not \"int\") to str"
     ]
    }
   ],
   "source": [
    "zahl = input(\"Gib mir eine Zahl\")\n",
    "print(zahl+1)"
   ]
  },
  {
   "cell_type": "markdown",
   "id": "580baad1-fd57-450f-aec0-777f7876dcc3",
   "metadata": {},
   "source": [
    "Dies erzeug einen Error, da Python hier versucht, eine Zeichenkette mit einer Zahl zu summieren. Wir müssen den Input erst in eine Zahl verwandeln, um die Addition ausführen zu können:"
   ]
  },
  {
   "cell_type": "code",
   "execution_count": 14,
   "id": "2b3a7b6b-f04d-49d4-86da-f04595044b71",
   "metadata": {},
   "outputs": [
    {
     "name": "stdin",
     "output_type": "stream",
     "text": [
      "Gib mir eine Zahl 8\n"
     ]
    },
    {
     "name": "stdout",
     "output_type": "stream",
     "text": [
      "Das Ergebnis ist 9\n"
     ]
    }
   ],
   "source": [
    "zahl = int(input(\"Gib mir eine Zahl\"))\n",
    "print(f\"Das Ergebnis ist {zahl+1}\")"
   ]
  },
  {
   "cell_type": "code",
   "execution_count": null,
   "id": "bcbbb79e-3bf0-48fd-8930-e9ba5bca1ead",
   "metadata": {},
   "outputs": [],
   "source": []
  }
 ],
 "metadata": {
  "kernelspec": {
   "display_name": "Python 3 (ipykernel)",
   "language": "python",
   "name": "python3"
  },
  "language_info": {
   "codemirror_mode": {
    "name": "ipython",
    "version": 3
   },
   "file_extension": ".py",
   "mimetype": "text/x-python",
   "name": "python",
   "nbconvert_exporter": "python",
   "pygments_lexer": "ipython3",
   "version": "3.9.7"
  }
 },
 "nbformat": 4,
 "nbformat_minor": 5
}
