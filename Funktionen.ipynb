{
 "cells": [
  {
   "cell_type": "markdown",
   "id": "13c3503f-f592-49aa-8739-b6ca83781d50",
   "metadata": {},
   "source": [
    "Titel"
   ]
  },
  {
   "cell_type": "code",
   "execution_count": null,
   "id": "b9404d4a-f30f-4885-84e7-51cc0e2203da",
   "metadata": {},
   "outputs": [],
   "source": [
    "print(\"hello)"
   ]
  }
 ],
 "metadata": {
  "kernelspec": {
   "display_name": "Python 3 (ipykernel)",
   "language": "python",
   "name": "python3"
  },
  "language_info": {
   "codemirror_mode": {
    "name": "ipython",
    "version": 3
   },
   "file_extension": ".py",
   "mimetype": "text/x-python",
   "name": "python",
   "nbconvert_exporter": "python",
   "pygments_lexer": "ipython3",
   "version": "3.9.7"
  }
 },
 "nbformat": 4,
 "nbformat_minor": 5
}
