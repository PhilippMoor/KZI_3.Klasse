{
 "cells": [
  {
   "cell_type": "markdown",
   "id": "52ff0707",
   "metadata": {},
   "source": [
    "# Sortieren mit Python"
   ]
  },
  {
   "cell_type": "markdown",
   "id": "b65fec36",
   "metadata": {},
   "source": [
    "## Selection-Sort"
   ]
  },
  {
   "cell_type": "markdown",
   "id": "1451a2f8",
   "metadata": {},
   "source": [
    "Ablauf:\n",
    "1. Setze Aktuelle Position auf Anfang\n",
    "2. Durchlaufe Liste ab aktueller Position um kleinstes Element zu finden\n",
    "3. Platziere kleinstes Element an die aktuelle Position\n",
    "4. Verschiebe aktuelle Position um 1\n",
    "5. Fertig wenn aktuelle Position am Ende der Liste"
   ]
  },
  {
   "cell_type": "code",
   "execution_count": 8,
   "id": "1e89413a",
   "metadata": {},
   "outputs": [
    {
     "name": "stdout",
     "output_type": "stream",
     "text": [
      "[1, -5, 7, 9, -1, -10, 6, -9, 5, -4, 0, 3, 4, 2, -3, -7, -2, -8, 8, -6]\n"
     ]
    }
   ],
   "source": [
    "import random\n",
    "random.seed(1)\n",
    "liste = [x for x in range(-10,10)]\n",
    "random.shuffle(liste)\n",
    "print(liste)       "
   ]
  },
  {
   "cell_type": "markdown",
   "id": "efcf4733",
   "metadata": {},
   "source": [
    "## Insertion-Sort"
   ]
  },
  {
   "cell_type": "markdown",
   "id": "96919178",
   "metadata": {},
   "source": [
    "Ablauf:\n",
    "1. Sortierer Bereich = Erstes Element\n",
    "2. Nimm Element rechts vom sortierten Bereich und sortiere es ein.-> Verschiebe Elemente um Platz zu schaffen.\n",
    "3. Vergrössere sortierten Bereich um 1 und wiederhole bis alles sortiert ist.(sortierter Bereich = Ganze Liste)"
   ]
  },
  {
   "cell_type": "code",
   "execution_count": 9,
   "id": "fa1d9f24",
   "metadata": {},
   "outputs": [
    {
     "name": "stdout",
     "output_type": "stream",
     "text": [
      "[1, -5, 7, 9, -1, -10, 6, -9, 5, -4, 0, 3, 4, 2, -3, -7, -2, -8, 8, -6]\n"
     ]
    }
   ],
   "source": [
    "import random\n",
    "random.seed(1)\n",
    "liste = [x for x in range(-10,10)]\n",
    "random.shuffle(liste)\n",
    "print(liste)"
   ]
  },
  {
   "cell_type": "markdown",
   "id": "f15531ac",
   "metadata": {},
   "source": [
    "## Bubble-Sort"
   ]
  },
  {
   "cell_type": "markdown",
   "id": "936263f5",
   "metadata": {},
   "source": [
    "Ablauf:\n",
    "1. Gehe alle benachbarten Paare von links nach rechts durch\n",
    "2. Tausche Paar (a,b) falls a > b\n",
    "3. Wiederhole solange bis ein gesamter Durchlauf ohne Tauschen stattfindet."
   ]
  },
  {
   "cell_type": "code",
   "execution_count": 10,
   "id": "cd4346ec",
   "metadata": {},
   "outputs": [
    {
     "name": "stdout",
     "output_type": "stream",
     "text": [
      "[1, -5, 7, 9, -1, -10, 6, -9, 5, -4, 0, 3, 4, 2, -3, -7, -2, -8, 8, -6]\n"
     ]
    }
   ],
   "source": [
    "import random\n",
    "random.seed(1)\n",
    "liste = [x for x in range(-10,10)]\n",
    "random.shuffle(liste)\n",
    "print(liste)"
   ]
  },
  {
   "cell_type": "code",
   "execution_count": null,
   "id": "fb7a7ae4",
   "metadata": {},
   "outputs": [],
   "source": []
  }
 ],
 "metadata": {
  "kernelspec": {
   "display_name": "Python 3 (ipykernel)",
   "language": "python",
   "name": "python3"
  },
  "language_info": {
   "codemirror_mode": {
    "name": "ipython",
    "version": 3
   },
   "file_extension": ".py",
   "mimetype": "text/x-python",
   "name": "python",
   "nbconvert_exporter": "python",
   "pygments_lexer": "ipython3",
   "version": "3.9.7"
  }
 },
 "nbformat": 4,
 "nbformat_minor": 5
}
