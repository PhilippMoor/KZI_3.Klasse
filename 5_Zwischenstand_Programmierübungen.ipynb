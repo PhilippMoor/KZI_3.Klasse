{
 "cells": [
  {
   "cell_type": "markdown",
   "id": "3d8dc7b9",
   "metadata": {},
   "source": [
    "Spielprogrammierung:\n",
    "In der folgenden Lektion werden wir mehrere Spiele zusammen programmieren.\n",
    "Im zusammenhang mit diesen Spielen, werden auch neuere Konzepte verwendet. Diese werden jedoch von der Lehrperson erklärt, oder sind entsprechend beschrieben."
   ]
  },
  {
   "cell_type": "markdown",
   "id": "ed88b5c1",
   "metadata": {},
   "source": [
    "# Konzept 1 (Zufallszahlen)"
   ]
  },
  {
   "cell_type": "markdown",
   "id": "04a5e6ed",
   "metadata": {},
   "source": [
    "Zufallszahlen können in python wie folgt generiert werden (Führen sie den untenstehenden Block aus):"
   ]
  },
  {
   "cell_type": "code",
   "execution_count": null,
   "id": "e42fc248",
   "metadata": {},
   "outputs": [],
   "source": [
    "import random\n",
    "zufallszahl = random.randint(0,1) #Zufallszahl zwischen 0 und 1\n",
    "print(zufallszahl)"
   ]
  },
  {
   "cell_type": "markdown",
   "id": "2df50ef4",
   "metadata": {},
   "source": [
    "Um uns zu versichern, dass nicht jedesmal die selbe Zahl rauskommt lassen wir uns erstmal 10  solcher Zufallswerte ausgeben:"
   ]
  },
  {
   "cell_type": "code",
   "execution_count": null,
   "id": "8ec70ba0",
   "metadata": {},
   "outputs": [],
   "source": [
    "import random\n",
    "for i in range(10):\n",
    "    zufallszahl = random.randint(0,1)\n",
    "    print(zufallszahl)\n"
   ]
  },
  {
   "cell_type": "markdown",
   "id": "45cd6b49",
   "metadata": {},
   "source": [
    "Nun sind wir überzeugt, dass die Zahlen zufällig generiert werden. Wie kann ich jedoch andere Zahlen erhalten?\n",
    "Um Zahlen abgesehen von 0 und 1 zu erhalten, können Sie die Argumente (Input-Werte) der Funktion random.randint(a,b) ändern. Wenn ich zum Beispiel Zufallszahlen zwischen 100 und 150 haben möchte, kann ich die Funktion folgendermassen aufrufen:"
   ]
  },
  {
   "cell_type": "code",
   "execution_count": null,
   "id": "8f476ff6",
   "metadata": {},
   "outputs": [],
   "source": [
    "import random\n",
    "for i in range(10):\n",
    "    zufallszahl = random.randint(100,150) #Argumente der random.randint(a,b) abgeändert\n",
    "    print(zufallszahl)\n"
   ]
  },
  {
   "cell_type": "markdown",
   "id": "16224e2a",
   "metadata": {},
   "source": [
    "Mit hilfe der Funktion random.randint(a,b) können wir lediglich ganze Zahlen generieren.\n",
    "Eine weitere wichtige Funktion des Moduls \"random\" besteht darin, zufällige Elemente von Listen mittels \"random.choice\" auszugeben.\n",
    "Sehen wir uns dies anhand von einem Beispiel an. Im folgenden Code soll zufällig zwischen dem String \"Kopf\" und dem String \"Zahl\" gewählt werden, um einen Münzwurf zu simulieren:"
   ]
  },
  {
   "cell_type": "code",
   "execution_count": null,
   "id": "cc369ae6",
   "metadata": {},
   "outputs": [],
   "source": [
    "import random\n",
    "möglichkeiten = [\"Kopf\",\"Zahl\"] #Liste mit den Möglichkeiten\n",
    "print(random.choice(möglichkeiten))"
   ]
  },
  {
   "cell_type": "code",
   "execution_count": null,
   "id": "06e22e82",
   "metadata": {},
   "outputs": [],
   "source": [
    "Lassen wir uns auch hier überzeugen, dass dies keinem Muster folgt und \"zufällig\" erscheint:"
   ]
  },
  {
   "cell_type": "code",
   "execution_count": null,
   "id": "243c9fed",
   "metadata": {},
   "outputs": [],
   "source": [
    "import random\n",
    "möglichkeiten = [\"Kopf\",\"Zahl\"] #Liste mit den Möglichkeiten\n",
    "for i in range(10):\n",
    "    print(random.choice(möglichkeiten))"
   ]
  },
  {
   "cell_type": "markdown",
   "id": "febedc39",
   "metadata": {},
   "source": [
    "Um Zufallszahlen, welche keine ganze Zahlen sind kümmern wir uns später. Die ungeduldigen unter Ihnen können sich via Internet schlau machen wie das geht :)."
   ]
  },
  {
   "cell_type": "markdown",
   "id": "0a2235d6",
   "metadata": {},
   "source": [
    "# Konzept 2 Verzweigungen"
   ]
  },
  {
   "cell_type": "markdown",
   "id": "b4a543f4",
   "metadata": {},
   "source": [
    "Wie ihr im Ganzklassenunterricht erfahren habt, oder erfahren werdet, sind Verzweigungen oder if-Anweisungen zentraler Bestandteil des Programmierens.\n",
    "Mittels if-Anweisung können verschiedene Entscheidungen getroffen werden. Wir nehmen uns ein Beispiel aus dem Ganzklassenunterricht:\n",
    "Angenommen Sie müssen ein System programmieren, welches minderjährigen den Zutritt verweigert, so können Sie dies mittels if-Anweisung umsetzen:\n",
    "Wir fragen zuerst das Alter einer Person ab, und entscheiden anhand dieser Zahl, ob die Person zutrittsberechtigt ist oder nicht:"
   ]
  },
  {
   "cell_type": "code",
   "execution_count": null,
   "id": "ca51e142",
   "metadata": {},
   "outputs": [],
   "source": [
    "alter = int(input(\"Wie alt sind Sie?:\"))\n",
    "if alter < 18:\n",
    "    print(\"Minderjährigen wird kein Zugriff gewährt!\")"
   ]
  },
  {
   "cell_type": "markdown",
   "id": "fb46177d",
   "metadata": {},
   "source": [
    "Mittels einem \"else\"-Statement können Sie den Volljährigen nun den Zugriff erlauben und dies Mitteilen:"
   ]
  },
  {
   "cell_type": "code",
   "execution_count": null,
   "id": "50ff0619",
   "metadata": {},
   "outputs": [],
   "source": [
    "alter = int(input(\"Wie alt sind Sie?:\"))\n",
    "if alter < 18:\n",
    "    print(\"Minderjährigen wird kein Zugriff gewährt!\")\n",
    "else:\n",
    "    print(\"Zugriff gewährt!\")"
   ]
  },
  {
   "cell_type": "markdown",
   "id": "b0cd23ab",
   "metadata": {},
   "source": [
    "Die Bedingung (hier im Beispiel: alter < 18) kann jede Mögliche Logische Aussage sein. Wir können also auch abfragen ob die eingegebene Zahl z.B gleich 100 ist oder nicht:"
   ]
  },
  {
   "cell_type": "code",
   "execution_count": null,
   "id": "bb5715b2",
   "metadata": {},
   "outputs": [],
   "source": [
    "antwort = int(input(\"Wieviel ist 10 * 10?\"))\n",
    "if antwort == 100:  #Achtung! Bedingungen mit einem \"gleich-Zeichen\" müssen mit doppelgleich geschrieben werden!\n",
    "    print(\"Richtig!\")\n",
    "else:\n",
    "    print(\"Falsch!\")"
   ]
  },
  {
   "cell_type": "markdown",
   "id": "cd467941",
   "metadata": {},
   "source": [
    "In bedingungen können wir folgende Vergleiche machen:\n",
    "\n",
    "a < b (kleiner als) und a <= b (kleiner gleich)\n",
    "\n",
    "a > b (grösser als) und a >= b (grösser gleich)\n",
    "  \n",
    "a == b (gleich) und a != b (nicht gleich)\n"
   ]
  },
  {
   "cell_type": "markdown",
   "id": "ab5b8bd3",
   "metadata": {},
   "source": [
    "Des weiteren können Formulierungen, wie sie es im Logik-Kapitel des Ganzklassenunterrichts gesehen haben, implementiert werden.\n",
    "\n",
    "Beispiel: Wenn die Sonne scheint, und es regnet oder nicht schneit soll \"Hurra\" ausgegeben werden.\n"
   ]
  },
  {
   "cell_type": "code",
   "execution_count": null,
   "id": "4e54af81",
   "metadata": {},
   "outputs": [],
   "source": [
    "sonnenschein = True\n",
    "regen = True\n",
    "schneefall = False\n",
    "\n",
    "if sonnenschein and (regen or (not schneefall)):\n",
    "    print(\"Hurra\")\n",
    "else:\n",
    "    print(\"Schade\")"
   ]
  },
  {
   "cell_type": "markdown",
   "id": "34e1a005",
   "metadata": {},
   "source": [
    "Verändern Sie im obigen Beispiel die Werte so, dass \"Schade\" ausgegeben wird."
   ]
  },
  {
   "cell_type": "markdown",
   "id": "ad6b1910",
   "metadata": {},
   "source": [
    "# Spiel 1"
   ]
  },
  {
   "cell_type": "markdown",
   "id": "b5d9810e",
   "metadata": {},
   "source": [
    "Im ersten Spiel soll sich der Computer eine Zufällige Zahl zwischen 1 und 3 ausdenken. Sie als Spieler oder Spielerin können danach versuchen die Zahl zu erraten."
   ]
  },
  {
   "cell_type": "code",
   "execution_count": null,
   "id": "5e54b915",
   "metadata": {},
   "outputs": [],
   "source": []
  },
  {
   "cell_type": "markdown",
   "id": "6773e755",
   "metadata": {},
   "source": [
    "# Spiel 2"
   ]
  },
  {
   "cell_type": "markdown",
   "id": "ce356214",
   "metadata": {},
   "source": [
    "In einem weiteren Schritt möchten Sie das Spiel erweiteren und mehrere Versuche haben die Zahl zu erraten. Nutzen Sie copy-paste, um dem Spieler oder der Spielerin fünf versuche zu gewähren die Zahl zu erraten:"
   ]
  },
  {
   "cell_type": "code",
   "execution_count": null,
   "id": "c2e867dc",
   "metadata": {},
   "outputs": [],
   "source": []
  },
  {
   "cell_type": "markdown",
   "id": "c8acba26",
   "metadata": {},
   "source": [
    "# Spiel 3"
   ]
  },
  {
   "cell_type": "markdown",
   "id": "337d8c6c",
   "metadata": {},
   "source": [
    "Implementieren Sie ein \"Schere-Stein-Papier\"-Spiel, bei dem Sie gegen den Computer spielen.\n",
    "Nutzen Sie die if-Anweisungen (Verzweigungen) um Abfragen wie"
   ]
  },
  {
   "cell_type": "code",
   "execution_count": null,
   "id": "9e0caa43",
   "metadata": {},
   "outputs": [],
   "source": [
    "if computerwahl = \"Schere\" and eigenewahl = \"Stein\":\n",
    "    print(\"Du gewinnst\")"
   ]
  },
  {
   "cell_type": "code",
   "execution_count": null,
   "id": "d41f11fc",
   "metadata": {},
   "outputs": [],
   "source": [
    "zu machen. Überlegen Sie sich alle möglichen Kombinationen und wer wann gewinnt."
   ]
  },
  {
   "cell_type": "markdown",
   "id": "0c696847",
   "metadata": {},
   "source": [
    "# Spiel 4 (Zusatzspiel für die schnelleren)"
   ]
  },
  {
   "cell_type": "markdown",
   "id": "be28106d",
   "metadata": {},
   "source": [
    "Nun zur wohl schwierigsten Challenge:\n",
    "\n",
    "Programmieren Sie ein \"Schere-Stein-Papier\"-Spiel, bei dem der Computer und der Spielende je 3 Leben besitzen. Wenn jemand in einer Spielrunde geschlagen wird, soll demjenigen ein Leben abgezogen werden. Bei gleichstand (z.B beide \"Stein\") sollen beide wieder je ein Leben erhalten. Wenn jemand keine Leben mehr besitzt, soll das Spiel enden.\n",
    "\n",
    "Hinweis: Diese Form eines Spiels benötigt die Verwendung von loops (for-loop oder while-loop). Wenn Sie diese noch nicht kennen wird die Aufgabe vermutlich nicht lösbar sein!"
   ]
  },
  {
   "cell_type": "markdown",
   "id": "1cab437c",
   "metadata": {},
   "source": []
  },
  {
   "cell_type": "code",
   "execution_count": null,
   "id": "27077531",
   "metadata": {},
   "outputs": [],
   "source": []
  }
 ],
 "metadata": {
  "kernelspec": {
   "display_name": "Python 3 (ipykernel)",
   "language": "python",
   "name": "python3"
  },
  "language_info": {
   "codemirror_mode": {
    "name": "ipython",
    "version": 3
   },
   "file_extension": ".py",
   "mimetype": "text/x-python",
   "name": "python",
   "nbconvert_exporter": "python",
   "pygments_lexer": "ipython3",
   "version": "3.9.7"
  }
 },
 "nbformat": 4,
 "nbformat_minor": 5
}
