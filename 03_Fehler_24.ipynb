{
 "cells": [
  {
   "cell_type": "markdown",
   "id": "1e8ed862",
   "metadata": {},
   "source": [
    "# Fehler"
   ]
  },
  {
   "cell_type": "markdown",
   "id": "14129fdf",
   "metadata": {},
   "source": [
    "Wer mehr und mehr programmiert, bei dem werden irgendwann Fehler (oder Bugs) auftreten. Das Auslösen, Verstehen und Korrigieren von Fehlern ist ein wichtiger Teil des Programmierens. Python wird - soweit möglich - alles ausführen, was gefragt ist, aber wenn es nicht möglich ist, wird es natürlich auch nicht gehen. Ist das der Fall, versucht Python zumindest noch ein paar Informationen über den Fehler zu nennen, damit du ihn korrigieren kannst."
   ]
  },
  {
   "cell_type": "markdown",
   "id": "e9c7472a",
   "metadata": {},
   "source": [
    "## Syntax Fehler"
   ]
  },
  {
   "cell_type": "markdown",
   "id": "e4ebef32",
   "metadata": {},
   "source": [
    "Syntaxfehler treten während der Kompilierung oder Interpretation des Programms auf. Sie sind auf Verstöße gegen die Grammatikregeln der Programmiersprache zurückzuführen. Sie verhindern, dass das Programm überhaupt ausgeführt wird.\n",
    "\n",
    "Beispiele: fehlende Klammern, Tippfehler in Schlüsselwörtern, falsche Reihenfolge von Befehlen."
   ]
  },
  {
   "cell_type": "markdown",
   "id": "76f09e16",
   "metadata": {},
   "source": [
    "## Beispiele"
   ]
  },
  {
   "cell_type": "code",
   "execution_count": null,
   "id": "b451be0c",
   "metadata": {},
   "outputs": [],
   "source": [
    "print \"ein Test\""
   ]
  },
  {
   "cell_type": "code",
   "execution_count": null,
   "id": "8d6d6744",
   "metadata": {},
   "outputs": [],
   "source": [
    "print(\"Hello\""
   ]
  },
  {
   "cell_type": "code",
   "execution_count": null,
   "id": "69ee28fd",
   "metadata": {},
   "outputs": [],
   "source": [
    "x = \"Informatik"
   ]
  },
  {
   "cell_type": "code",
   "execution_count": null,
   "id": "d620d620",
   "metadata": {},
   "outputs": [],
   "source": [
    "class = \"Advanced Computronics for Beginners\""
   ]
  },
  {
   "cell_type": "code",
   "execution_count": null,
   "id": "b456c58b",
   "metadata": {},
   "outputs": [],
   "source": [
    "def = \"Definition\""
   ]
  },
  {
   "cell_type": "markdown",
   "id": "31335d51",
   "metadata": {},
   "source": [
    "Schlüsselwörter dürfen nicht als Namen für Variablen gewählt werden. Eine Liste mit Schlüsselwörtern findest du hier:\n",
    "    "
   ]
  },
  {
   "cell_type": "code",
   "execution_count": null,
   "id": "fb816a04",
   "metadata": {},
   "outputs": [],
   "source": [
    "from IPython import display\n",
    "display.Image(\"https://pic2.zhimg.com/v2-0b5288aabcc3da5f60a32bdfe2acfacd_b.jpg\")"
   ]
  },
  {
   "cell_type": "markdown",
   "id": "fe30a5aa",
   "metadata": {},
   "source": [
    "## Laufzeit Fehler"
   ]
  },
  {
   "cell_type": "markdown",
   "id": "6098724f",
   "metadata": {},
   "source": [
    "Laufzeitfehler treten auf, wenn das Programm während der Ausführung auf ein unerwartetes Ereignis stößt.\n",
    "Sie sind nicht auf syntaktische Fehler zurückzuführen, sondern auf logische Probleme oder unerwartete Bedingungen.\n",
    "Sie führen dazu, dass das Programm während der Ausführung abbricht oder unerwartete Ergebnisse liefert.\n",
    "\n",
    "Beispiele: Division durch Null, Zugriff auf eine noch nicht bekannte Variable, Datei nicht gefunden."
   ]
  },
  {
   "cell_type": "markdown",
   "id": "8df74f66",
   "metadata": {},
   "source": [
    "## Beispiele\n"
   ]
  },
  {
   "cell_type": "code",
   "execution_count": null,
   "id": "26053cbb",
   "metadata": {},
   "outputs": [],
   "source": [
    "callMe = \"Maybe\"\n",
    "print(callme)"
   ]
  },
  {
   "cell_type": "code",
   "execution_count": null,
   "id": "05b19468",
   "metadata": {},
   "outputs": [],
   "source": [
    "print(1/0)"
   ]
  },
  {
   "cell_type": "code",
   "execution_count": null,
   "id": "f9c3763c",
   "metadata": {},
   "outputs": [],
   "source": [
    "print(\"Zehn\" + 10)"
   ]
  },
  {
   "cell_type": "code",
   "execution_count": null,
   "id": "7f5677e7",
   "metadata": {},
   "outputs": [],
   "source": [
    "print(x)\n",
    "x = 5"
   ]
  },
  {
   "cell_type": "markdown",
   "id": "49c1352a",
   "metadata": {},
   "source": [
    "## Logische Fehler\n"
   ]
  },
  {
   "cell_type": "markdown",
   "id": "4bdc97d9",
   "metadata": {},
   "source": [
    "Was ist der Fehler bei folgendem Programm?"
   ]
  },
  {
   "cell_type": "code",
   "execution_count": null,
   "id": "b44a79d0",
   "metadata": {},
   "outputs": [],
   "source": [
    "x = 3\n",
    "y = 4\n",
    "durchschnitt = x + y / 2\n",
    "print(durchschnitt)"
   ]
  },
  {
   "cell_type": "markdown",
   "id": "7b7675b0",
   "metadata": {},
   "source": [
    "Logische Fehler treten auf, wenn Sie das Programm falsch entworfen haben oder der Code nicht dem Entwurf entspricht (wie in dem Beispiel mit durchschnitt). Logische Fehler können schwierig zu finden sein - gerade bei längeren Programmen - aber mit der Zeit, wenn Sie besser programmieren können, werden auch logische Fehler seltener auftreten."
   ]
  },
  {
   "cell_type": "markdown",
   "id": "9cea9322",
   "metadata": {},
   "source": [
    "# Aufgaben"
   ]
  },
  {
   "cell_type": "markdown",
   "id": "6afb69f7",
   "metadata": {},
   "source": [
    "### Aufgabe 1:"
   ]
  },
  {
   "cell_type": "markdown",
   "id": "605793b8",
   "metadata": {},
   "source": [
    "Korrigieren Sie den Syntaxfehler in diesem Programm, sodass es die Summe der Zahlen von 1 bis 10 ausgibt."
   ]
  },
  {
   "cell_type": "code",
   "execution_count": null,
   "id": "a6579087",
   "metadata": {},
   "outputs": [],
   "source": [
    "print(1 + 2 + 3 + 4 + 5 + 6 + 7 + 8 + 9 + 10 +)\n"
   ]
  },
  {
   "cell_type": "code",
   "execution_count": null,
   "id": "d5c16c33",
   "metadata": {},
   "outputs": [],
   "source": []
  },
  {
   "cell_type": "markdown",
   "id": "7f881f6c",
   "metadata": {},
   "source": [
    "### Aufgabe 2:"
   ]
  },
  {
   "cell_type": "markdown",
   "id": "44cd090a",
   "metadata": {},
   "source": [
    "Korrigieren Sie den Laufzeitfehler in folgendem Programm, sodass es in der ersten Zeile Hello und in der zweiten Zeile Joe ausgibt."
   ]
  },
  {
   "cell_type": "code",
   "execution_count": null,
   "id": "cbfbe47c",
   "metadata": {},
   "outputs": [],
   "source": [
    "print(\"Hello\")\n",
    "username = Joe \n",
    "print(username)"
   ]
  },
  {
   "cell_type": "code",
   "execution_count": null,
   "id": "35de2400-b7bc-4e68-ad0c-06b97c9baec3",
   "metadata": {},
   "outputs": [],
   "source": []
  },
  {
   "cell_type": "markdown",
   "id": "1bfcfbae-8590-4cdd-ae47-308a5e186c62",
   "metadata": {},
   "source": [
    "### Aufgabe 3:"
   ]
  },
  {
   "cell_type": "markdown",
   "id": "e229a2ea-8337-4993-9e0c-93dfa7ca119d",
   "metadata": {},
   "source": [
    "Korrigieren Sie die Fehler in den folgenden Programmen:"
   ]
  },
  {
   "cell_type": "code",
   "execution_count": null,
   "id": "e5eca2e0-9fce-446a-99cf-2707e85c9606",
   "metadata": {},
   "outputs": [],
   "source": [
    "name == \"Anna\"\n",
    "print(name)"
   ]
  },
  {
   "cell_type": "code",
   "execution_count": null,
   "id": "f2576a3d-9e28-4ee6-8698-a071543d3646",
   "metadata": {},
   "outputs": [],
   "source": [
    "zahl = input(\"Zahl\")\n",
    "print(zahl+1)"
   ]
  },
  {
   "cell_type": "code",
   "execution_count": null,
   "id": "25ec0e5c-9a47-42e2-9e2b-fcba143af580",
   "metadata": {},
   "outputs": [],
   "source": [
    "100 = x\n",
    "pritn(x)"
   ]
  },
  {
   "cell_type": "code",
   "execution_count": null,
   "id": "5abdf45e-7820-4034-b672-795944301a30",
   "metadata": {},
   "outputs": [],
   "source": [
    "alter = 18\n",
    "print(f\"Du bist [18] jahre alt\")"
   ]
  },
  {
   "cell_type": "code",
   "execution_count": null,
   "id": "5193098d-2617-4e51-80e9-8cfa66a0685f",
   "metadata": {},
   "outputs": [],
   "source": [
    "print(summe)\n",
    "def = 18\n",
    "def2 = 29\n",
    "summe = def+def2"
   ]
  },
  {
   "cell_type": "code",
   "execution_count": null,
   "id": "f52d4d66-9cda-4363-841d-3ad38c1d940b",
   "metadata": {},
   "outputs": [],
   "source": [
    "begrüssung = \"Hallo Zusammen\"\n",
    "print = begrüssung"
   ]
  },
  {
   "cell_type": "code",
   "execution_count": null,
   "id": "52f79b88-e191-43b9-8ce0-127339ced4b3",
   "metadata": {},
   "outputs": [],
   "source": [
    "a = 100\n",
    "b = a+1-100-1\n",
    "print(a/b)"
   ]
  },
  {
   "cell_type": "code",
   "execution_count": null,
   "id": "32722d11-61d2-49f4-8f1b-d57cb2043d40",
   "metadata": {},
   "outputs": [],
   "source": [
    "kontostand = int(input(\"Kontostand: \"))\n",
    "zins = 0.04\n",
    "print(int(kontostand*zins))"
   ]
  },
  {
   "cell_type": "code",
   "execution_count": null,
   "id": "fb1dcc6b-816a-4a1c-ab71-e6d6a48cb543",
   "metadata": {},
   "outputs": [],
   "source": [
    "x = 10\n",
    "x + 1\n",
    "print(x)"
   ]
  },
  {
   "cell_type": "code",
   "execution_count": null,
   "id": "64575ea3-a184-422c-abcb-e5c7914a96ae",
   "metadata": {},
   "outputs": [],
   "source": [
    "a = float(input(\"Note 1:\"))\n",
    "b = float(input(\"Note 2:\"))\n",
    "durchschnitt = (a+b)//2\n",
    "print(durchschnitt)"
   ]
  },
  {
   "cell_type": "markdown",
   "id": "b87b8ff6",
   "metadata": {},
   "source": [
    "### Zusatzaufgabe:\n"
   ]
  },
  {
   "cell_type": "markdown",
   "id": "47b16bc8",
   "metadata": {},
   "source": [
    "Sie gehen Milch und Fleisch einkaufen (englisch: \"milk\" bzw. \"meat\"), aber diese Produkte sind mit einer Steuer (englisch: tax) belegt. Sie kaufen Milch im Wert von 2.- und Fleisch im Wert von 4.-, wobei die Steuerrate 3% beträgt.\n",
    "\n",
    "Geben Sie die Gesamtkosten der Lebensmittel aus.\n",
    "Korrigieren Sie die Fehler im folgenden Code.\n",
    "\n",
    "Korrekte Lösung: 6.18"
   ]
  },
  {
   "cell_type": "code",
   "execution_count": null,
   "id": "c10e0f90",
   "metadata": {},
   "outputs": [],
   "source": [
    "meatPrice = 4.00\n",
    "meatTax = 0.03 * meatPrice\n",
    "milkPrice = 2.00\n",
    "milkTax = 0.03 * milkPrice\n",
    "print(meatTax + meatPrice + milkTax + meatPrice)"
   ]
  }
 ],
 "metadata": {
  "kernelspec": {
   "display_name": "Python 3 (ipykernel)",
   "language": "python",
   "name": "python3"
  },
  "language_info": {
   "codemirror_mode": {
    "name": "ipython",
    "version": 3
   },
   "file_extension": ".py",
   "mimetype": "text/x-python",
   "name": "python",
   "nbconvert_exporter": "python",
   "pygments_lexer": "ipython3",
   "version": "3.9.7"
  }
 },
 "nbformat": 4,
 "nbformat_minor": 5
}
