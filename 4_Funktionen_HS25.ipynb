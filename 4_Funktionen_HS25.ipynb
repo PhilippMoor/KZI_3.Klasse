{
 "cells": [
  {
   "cell_type": "markdown",
   "id": "f39a3f6d",
   "metadata": {},
   "source": [
    "# Funktionen"
   ]
  },
  {
   "cell_type": "markdown",
   "id": "b20bc517",
   "metadata": {},
   "source": [
    "Wir haben bereits eine Funktion gesehen: print( ), die eine Zeile ausgibt. Um eine Funktion zu nutzen, schreibt man immer ihren Namen, gefolgt von einigen Argumenten in Klammern ( ). Das Wort Argument meint hier die Eingabedaten für eine Funktion. Dann wird die Funktion etwas tun - abhängig von den Argumenten. Wenn eine Funktion mehrere Argumente annimmt, werden sie mit Kommas ( , ) getrennt. "
   ]
  },
  {
   "cell_type": "markdown",
   "id": "34502ffc",
   "metadata": {},
   "source": [
    "Zum Beispiel kann auch print( ) mehrere Argumente annehmen; sie werden in einer bestimmten Reihenfolge ausgegeben, getrennt durch ein Leerzeichen. Das demonstrieren wir hier einmal:"
   ]
  },
  {
   "cell_type": "code",
   "execution_count": null,
   "id": "ea09a534",
   "metadata": {},
   "outputs": [],
   "source": [
    "zahl = 120\n",
    "print(zahl,zahl+zahl,zahl*zahl)"
   ]
  },
  {
   "cell_type": "markdown",
   "id": "b1936495",
   "metadata": {},
   "source": [
    "Eine Funktion kann auch Werte liefern (wie eine Ausgabe). Zum Beispiel gibt die Funktion max( ) (Abkürzung für Maximum) das größte aller ihrer Argumente zurück, die allesamt Zahlen sein müssen."
   ]
  },
  {
   "cell_type": "markdown",
   "id": "e9cfbf70",
   "metadata": {},
   "source": [
    "Man nennt diesen Wert auch Rückgabewert. Für den Befehl max(42, 17) sagt man \"Die Funktion max gibt den Wert 42 zurück.\"\n",
    "Der beste Freund der max( )-Funktion verhält sich ganz ähnlich: die min( )-Funktion gibt das Minimum der Argumente zurück."
   ]
  },
  {
   "cell_type": "markdown",
   "id": "4976f57c",
   "metadata": {},
   "source": [
    "# Aufgaben"
   ]
  },
  {
   "cell_type": "markdown",
   "id": "15eba0b7",
   "metadata": {},
   "source": [
    "### Aufgabe 1:"
   ]
  },
  {
   "cell_type": "markdown",
   "id": "8de47b1b",
   "metadata": {},
   "source": [
    "Wieso gibt dieser Block nichts aus?"
   ]
  },
  {
   "cell_type": "code",
   "execution_count": null,
   "id": "77af861c",
   "metadata": {},
   "outputs": [],
   "source": [
    "x = max(2,3)"
   ]
  },
  {
   "cell_type": "markdown",
   "id": "3c6cf906-7273-41a3-9e68-1259c89234fa",
   "metadata": {},
   "source": [
    "<details>\n",
    "  <summary>Lösung:</summary>\n",
    "\n",
    "  <pre><code class=\"language-python\">\n",
    "print muss verwendet werden.\n",
    "</code></pre>\n",
    "</details>"
   ]
  },
  {
   "cell_type": "markdown",
   "id": "7736f0c0",
   "metadata": {},
   "source": [
    "### Aufgabe 2:"
   ]
  },
  {
   "cell_type": "markdown",
   "id": "8f76ab1a",
   "metadata": {},
   "source": [
    "Wieso geben folgende Blöcke Fehlermeldungen aus?"
   ]
  },
  {
   "cell_type": "code",
   "execution_count": null,
   "id": "4c721ec6",
   "metadata": {},
   "outputs": [],
   "source": [
    "max(\"zwei\",3)"
   ]
  },
  {
   "cell_type": "code",
   "execution_count": null,
   "id": "e1687fd4",
   "metadata": {},
   "outputs": [],
   "source": [
    "print(max(3,4)"
   ]
  },
  {
   "cell_type": "markdown",
   "id": "4ad02ac8-07ef-4e9f-b41b-c2ab19ae16b8",
   "metadata": {},
   "source": [
    "<details>\n",
    "  <summary>Lösung:</summary>\n",
    "\n",
    "  <pre><code class=\"language-python\">\n",
    "- max(a,b) kann nur Objekte vom gleichen Typ vergleichen.\n",
    "- Klammer fehlt beim zweiten.\n",
    "</code></pre>\n",
    "</details>"
   ]
  },
  {
   "cell_type": "markdown",
   "id": "2e19b223",
   "metadata": {},
   "source": [
    "### Aufgabe 3:"
   ]
  },
  {
   "cell_type": "markdown",
   "id": "618726b5",
   "metadata": {},
   "source": [
    "Schreiben Sie ein Programm, bei dem Sie Schulnoten eintragen können. Das Programm soll ihnen die maximale und die minimale Note ausgeben."
   ]
  },
  {
   "cell_type": "code",
   "execution_count": null,
   "id": "cac3af08-171f-49a9-a33a-6f728f6da039",
   "metadata": {},
   "outputs": [],
   "source": []
  },
  {
   "cell_type": "markdown",
   "id": "e7871386-4877-4f28-a9f2-950933ec8827",
   "metadata": {},
   "source": [
    "<details>\n",
    "  <summary>Lösung:</summary>\n",
    "\n",
    "  <pre><code class=\"language-python\">\n",
    "x = float(input(\"Note1\"))\n",
    "y = float(input(\"Note2\"))\n",
    "print(f\"Maximalnote: {max(x,y)}.\"))\n",
    "print(f\"Minimalnote: {min(x,y)}.\")\n",
    "</code></pre>\n",
    "</details>"
   ]
  },
  {
   "cell_type": "markdown",
   "id": "d1bf892c",
   "metadata": {},
   "source": [
    "### Aufgabe 4:"
   ]
  },
  {
   "cell_type": "markdown",
   "id": "2afdccd4",
   "metadata": {},
   "source": [
    "Korrigieren Sie den logischen Fehler in diesem Programm:\n",
    "\n",
    "es soll die Bevölkerung in einem Land für die nächsten drei Jahre berechnen - mit der Annahme, dass dort am Anfang (also 2012) 1000 Personen leben und jedes Jahr 10% dazukommen."
   ]
  },
  {
   "cell_type": "code",
   "execution_count": null,
   "id": "42cc00f6",
   "metadata": {},
   "outputs": [],
   "source": [
    "populationIn2012 = 1000\n",
    "populationIn2013 = populationIn2012 * 0.1\n",
    "populationIn2014 = populationIn2013 * 0.1\n",
    "populationIn2015 = populationIn2014 * 0.1\n",
    "\n",
    "print(f\"Die Population entwickelt sich folgendermassen: {populationIn2012} {populationIn2013} {populationIn2014} {populationIn2015}\")"
   ]
  },
  {
   "cell_type": "markdown",
   "id": "5169c6b7-8f37-4745-8811-304f2d8b811d",
   "metadata": {},
   "source": [
    "<details>\n",
    "  <summary>Lösung:</summary>\n",
    "\n",
    "  <pre><code class=\"language-python\">\n",
    "populationIn2012 = 1000\n",
    "populationIn2013 = populationIn2012 * 1.1\n",
    "populationIn2014 = populationIn2013 * 1.1\n",
    "populationIn2015 = populationIn2014 * 1.1\n",
    "\n",
    "print(f\"Die Population entwickelt sich folgendermassen: {populationIn2012} {populationIn2013} {populationIn2014} {populationIn2015}\")\n",
    "</code></pre>\n",
    "</details>"
   ]
  },
  {
   "cell_type": "markdown",
   "id": "de1a4bd0",
   "metadata": {},
   "source": [
    "### Aufgabe 5:"
   ]
  },
  {
   "cell_type": "markdown",
   "id": "c664e0fb",
   "metadata": {},
   "source": [
    "Vereinfachen Sie folgenden Ausdruck:\n",
    "\n",
    "max(x - 3, min(x + 10, x + 5))\n",
    "\n"
   ]
  },
  {
   "cell_type": "code",
   "execution_count": null,
   "id": "2be4cd6f",
   "metadata": {},
   "outputs": [],
   "source": []
  },
  {
   "cell_type": "markdown",
   "id": "1eed3843-355a-4ddf-8a17-cc9a2df5b1ec",
   "metadata": {},
   "source": [
    "<details>\n",
    "  <summary>Lösung:</summary>\n",
    "\n",
    "  <pre><code class=\"language-python\">\n",
    "x+5\n",
    "</code></pre>\n",
    "</details>"
   ]
  },
  {
   "cell_type": "markdown",
   "id": "6ba533eb-b741-4ed0-bd09-de62e5b1f6e2",
   "metadata": {},
   "source": [
    "### Aufgabe 6:"
   ]
  },
  {
   "cell_type": "markdown",
   "id": "bf1f10b9-0423-4dea-a323-439e5d7294f0",
   "metadata": {},
   "source": [
    "Wie lautet die Ausgabe des folgenden Programms? (Versuchen Sie die Aufgabe im Kopf zu lösen)\n",
    "\n",
    "x = min(max(13, 7), 9)\n",
    "\n",
    "print(x)\n"
   ]
  },
  {
   "cell_type": "markdown",
   "id": "9d46ca11",
   "metadata": {},
   "source": [
    "### Aufgabe 7:"
   ]
  },
  {
   "cell_type": "markdown",
   "id": "f44e2308",
   "metadata": {},
   "source": [
    "Wir nehmen an, dass zwei Variablen x und y definiert sind. Schreiben Sie ein Programm, das den Wert von min(x, y)\n",
    "ausgibt. Benutzen Sie dabei jedoch nicht die min-Funktion.\n",
    "Nutzen Sie stattdessen max auf clevere Weise, um min zu simulieren. "
   ]
  },
  {
   "cell_type": "code",
   "execution_count": null,
   "id": "cbcc33a3",
   "metadata": {},
   "outputs": [],
   "source": []
  },
  {
   "cell_type": "markdown",
   "id": "5e911dbc-f355-41b6-9bef-bc7ba31beb48",
   "metadata": {},
   "source": [
    "<details>\n",
    "  <summary>Lösung:</summary>\n",
    "\n",
    "  <pre><code class=\"language-python\">\n",
    "-max(-x,-y)\n",
    "</code></pre>\n",
    "</details>"
   ]
  },
  {
   "cell_type": "markdown",
   "id": "c65d94fe",
   "metadata": {},
   "source": [
    "### Aufgabe 8:"
   ]
  },
  {
   "cell_type": "markdown",
   "id": "402309fd",
   "metadata": {},
   "source": [
    "Eine Kreditkartenfirma bestimmt den minimal auszahlbaren Betrag nach folgender Regel:\n",
    "\t1.\tBerechne 2,1 % des aktuellen Kontostands (balance).\n",
    "\t2.\tVergleiche diesen Wert mit 10.– und nimm den grösseren der beiden.\n",
    "\t3.\tDer Minimalbetrag darf jedoch nie grösser sein als der Kontostand selbst. In diesem Fall gilt einfach der Kontostand.\n",
    "\n",
    "Schreiben Sie ein Programm, das diesen Minimalbetrag berechnet und mit Hilfe von min und max ausgibt.\n",
    "Es sei eine Variable balance vorgegeben, die den aktuellen Kontostand enthält.\n",
    "\n",
    "Beispiele\n",
    "\n",
    "\t•\tWenn balance = 1000, dann Ausgabe: 21\n",
    "\t•\tWenn balance = 600, dann Ausgabe: 12.6\n",
    "\t•\tWenn balance = 25, dann Ausgabe: 10\n",
    "\t•\tWenn balance = 8, dann Ausgabe: 8"
   ]
  },
  {
   "cell_type": "code",
   "execution_count": null,
   "id": "ac53274d-be8f-43ad-b20b-947d691d7b5d",
   "metadata": {},
   "outputs": [],
   "source": []
  },
  {
   "cell_type": "markdown",
   "id": "f87c29ef-cc23-4b42-9526-65301ea45939",
   "metadata": {},
   "source": [
    "<details>\n",
    "  <summary>Lösung:</summary>\n",
    "\n",
    "  <pre><code class=\"language-python\">\n",
    "balance = 10000\n",
    "minimalbetrag = min(balance, max(balance*0.021,10))\n",
    "print(minimalbetrag)\n",
    "</code></pre>\n",
    "</details>"
   ]
  },
  {
   "cell_type": "markdown",
   "id": "b305c5b1-fae6-4486-9010-f81a605f2d62",
   "metadata": {},
   "source": [
    "### Aufgabe 9:"
   ]
  },
  {
   "cell_type": "code",
   "execution_count": 1,
   "id": "a73aabe8",
   "metadata": {},
   "outputs": [
    {
     "data": {
      "image/png": "[encoded data removed]",
      "text/plain": [
       "<IPython.core.display.Image object>"
      ]
     },
     "execution_count": 1,
     "metadata": {},
     "output_type": "execute_result"
    }
   ],
   "source": [
    "from IPython import display\n",
    "display.Image(\"https://cscircles.cemc.uwaterloo.ca/wp-content/lesson_files/img/2/two-roads.png\")"
   ]
  },
  {
   "cell_type": "markdown",
   "id": "17d2f2f3-efac-4b19-ae8c-62b3690f5dce",
   "metadata": {},
   "source": [
    "Dein Truck kann eine der beiden Strassen nehmen. Schreibe ein Programm, das das Maximalgewicht ausgibt, das zwischen den beiden Städten transportiert werden kann. Auch hier kannst du wieder annehmen, dass die Variablen a, b, c, d und e bereits bekannt sind und die richtigen Werte enthalten."
   ]
  },
  {
   "cell_type": "code",
   "execution_count": null,
   "id": "a417a624-6f70-4f53-b3e8-710d407844fd",
   "metadata": {},
   "outputs": [],
   "source": []
  },
  {
   "cell_type": "markdown",
   "id": "0e77b4f7-0c8d-4166-b3af-5bad32690fa9",
   "metadata": {},
   "source": [
    "<details>\n",
    "  <summary>Lösung:</summary>\n",
    "\n",
    "  <pre><code class=\"language-python\">\n",
    "a = 5\n",
    "b = 10\n",
    "c = 100\n",
    "d = 4\n",
    "e = 50\n",
    "print(max(min(a,b,c),min(d,e)))\n",
    "</code></pre>\n",
    "</details>"
   ]
  }
 ],
 "metadata": {
  "kernelspec": {
   "display_name": "Python 3 (ipykernel)",
   "language": "python",
   "name": "python3"
  },
  "language_info": {
   "codemirror_mode": {
    "name": "ipython",
    "version": 3
   },
   "file_extension": ".py",
   "mimetype": "text/x-python",
   "name": "python",
   "nbconvert_exporter": "python",
   "pygments_lexer": "ipython3",
   "version": "3.12.6"
  }
 },
 "nbformat": 4,
 "nbformat_minor": 5
}
