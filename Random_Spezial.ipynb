{
 "cells": [
  {
   "cell_type": "markdown",
   "id": "df7a138e",
   "metadata": {},
   "source": [
    "# Von Neumann Methode I"
   ]
  },
  {
   "cell_type": "code",
   "execution_count": 7,
   "id": "404578bc",
   "metadata": {},
   "outputs": [
    {
     "name": "stdout",
     "output_type": "stream",
     "text": [
      "23\n",
      "52\n",
      "70\n",
      "90\n",
      "10\n",
      "10\n",
      "10\n",
      "10\n",
      "10\n",
      "10\n"
     ]
    }
   ],
   "source": [
    "zahl = \"1234\"\n",
    "\n",
    "for i in range(10):\n",
    "    zahl_mitte = zahl[1:3]\n",
    "    print(zahl_mitte)\n",
    "    zahl_mitte_int = int(zahl_mitte)\n",
    "    quadrat = zahl_mitte_int * zahl_mitte_int\n",
    "    quadrat = str(quadrat)\n",
    "    if len(quadrat) == 3:\n",
    "        quadrat = \"0\" + quadrat\n",
    "    elif len(quadrat) == 2:\n",
    "        quadrat = \"00\" + quadrat\n",
    "    elif len(quadrat) == 1:\n",
    "        quadrat = \"000\" + quadrat\n",
    "    zahl = quadrat"
   ]
  },
  {
   "cell_type": "markdown",
   "id": "5d742fd2",
   "metadata": {},
   "source": [
    "# Von Neumann Methode II\n"
   ]
  },
  {
   "cell_type": "code",
   "execution_count": 9,
   "id": "0cd9af9a",
   "metadata": {},
   "outputs": [
    {
     "name": "stdout",
     "output_type": "stream",
     "text": [
      "1234\n",
      "5227\n",
      "3215\n",
      "3362\n",
      "3030\n",
      "1809\n",
      "2724\n",
      "4201\n",
      "6484\n",
      "0422\n",
      "1780\n",
      "1684\n",
      "8358\n",
      "8561\n",
      "2907\n",
      "4506\n",
      "3040\n",
      "2416\n",
      "8370\n",
      "0569\n",
      "3237\n",
      "4781\n",
      "8579\n",
      "5992\n",
      "9040\n",
      "7216\n",
      "0706\n",
      "4984\n",
      "8402\n",
      "5936\n",
      "2360\n",
      "5696\n",
      "4444\n",
      "7491\n",
      "1150\n",
      "3225\n",
      "4006\n",
      "0480\n",
      "2304\n",
      "3084\n",
      "5110\n",
      "1121\n",
      "2566\n",
      "5843\n",
      "1406\n",
      "9768\n",
      "4138\n",
      "1230\n",
      "5129\n",
      "3066\n",
      "4003\n",
      "0240\n",
      "0576\n",
      "3317\n",
      "0024\n",
      "0005\n",
      "0000\n",
      "0000\n",
      "0000\n",
      "0000\n",
      "0000\n",
      "0000\n",
      "0000\n",
      "0000\n",
      "0000\n",
      "0000\n",
      "0000\n",
      "0000\n",
      "0000\n",
      "0000\n",
      "0000\n",
      "0000\n",
      "0000\n",
      "0000\n",
      "0000\n",
      "0000\n",
      "0000\n",
      "0000\n",
      "0000\n",
      "0000\n",
      "0000\n",
      "0000\n",
      "0000\n",
      "0000\n",
      "0000\n",
      "0000\n",
      "0000\n",
      "0000\n",
      "0000\n",
      "0000\n",
      "0000\n",
      "0000\n",
      "0000\n",
      "0000\n",
      "0000\n",
      "0000\n",
      "0000\n",
      "0000\n",
      "0000\n",
      "0000\n"
     ]
    }
   ],
   "source": [
    "zahl = \"00123400\"\n",
    "\n",
    "for i in range(100):\n",
    "    zahl_mitte = zahl[2:6]\n",
    "    print(zahl_mitte)\n",
    "    zahl_mitte_int = int(zahl_mitte)\n",
    "    quadrat = zahl_mitte_int * zahl_mitte_int\n",
    "    quadrat = str(quadrat)\n",
    "    if len(quadrat) == 7:\n",
    "        quadrat = \"0\" + quadrat\n",
    "    elif len(quadrat) == 6:\n",
    "        quadrat = \"00\" + quadrat\n",
    "    elif len(quadrat) == 5:\n",
    "        quadrat = \"000\" + quadrat\n",
    "    elif len(quadrat) == 4:\n",
    "        quadrat = \"0000\" + quadrat\n",
    "    elif len(quadrat) == 3:\n",
    "        quadrat = \"00000\" + quadrat\n",
    "    elif len(quadrat) == 2:\n",
    "        quadrat = \"000000\" + quadrat\n",
    "    elif len(quadrat) == 1:\n",
    "        quadrat = \"0000000\" + quadrat\n",
    "    zahl = quadrat"
   ]
  },
  {
   "cell_type": "markdown",
   "id": "70b55ca6",
   "metadata": {},
   "source": [
    "LCG's (Linear Congruential Generators)"
   ]
  },
  {
   "cell_type": "code",
   "execution_count": null,
   "id": "81366cbd",
   "metadata": {},
   "outputs": [],
   "source": [
    "# x_n+1 = (a*x_n + c) mod m\n",
    "a = 13\n",
    "c = 5\n",
    "m = 1000\n",
    "\n",
    "x_alt = 124\n",
    "print(x_alt)\n",
    "for i in range(10000):\n",
    "  x_neu = (a*x_alt + c) % m\n",
    "  x_alt = x_neu\n",
    "  print(x_neu)"
   ]
  }
 ],
 "metadata": {
  "kernelspec": {
   "display_name": "Python 3 (ipykernel)",
   "language": "python",
   "name": "python3"
  },
  "language_info": {
   "codemirror_mode": {
    "name": "ipython",
    "version": 3
   },
   "file_extension": ".py",
   "mimetype": "text/x-python",
   "name": "python",
   "nbconvert_exporter": "python",
   "pygments_lexer": "ipython3",
   "version": "3.9.7"
  }
 },
 "nbformat": 4,
 "nbformat_minor": 5
}
